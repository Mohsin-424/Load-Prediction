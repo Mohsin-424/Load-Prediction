{
 "cells": [
  {
   "cell_type": "code",
   "execution_count": 7,
   "metadata": {},
   "outputs": [],
   "source": [
    "import numpy as np\n",
    "import pandas as pd\n",
    "import tensorflow as tf\n",
    "from tensorflow.keras.models import Sequential\n",
    "from tensorflow.keras.layers import GRU, Dense, Dropout, Input\n",
    "from tensorflow.keras.optimizers import Adam\n",
    "from tensorflow.keras.regularizers import l2\n",
    "from sklearn.preprocessing import MinMaxScaler\n",
    "from sklearn.model_selection import train_test_split\n",
    "import matplotlib.pyplot as plt\n",
    "from tensorflow.keras.callbacks import EarlyStopping\n"
   ]
  },
  {
   "cell_type": "code",
   "execution_count": 12,
   "metadata": {},
   "outputs": [
    {
     "data": {
      "text/html": [
       "<div>\n",
       "<style scoped>\n",
       "    .dataframe tbody tr th:only-of-type {\n",
       "        vertical-align: middle;\n",
       "    }\n",
       "\n",
       "    .dataframe tbody tr th {\n",
       "        vertical-align: top;\n",
       "    }\n",
       "\n",
       "    .dataframe thead th {\n",
       "        text-align: right;\n",
       "    }\n",
       "</style>\n",
       "<table border=\"1\" class=\"dataframe\">\n",
       "  <thead>\n",
       "    <tr style=\"text-align: right;\">\n",
       "      <th></th>\n",
       "      <th>Hour_End</th>\n",
       "      <th>COAST</th>\n",
       "      <th>EAST</th>\n",
       "      <th>FAR_WEST</th>\n",
       "      <th>NORTH</th>\n",
       "      <th>NORTH_C</th>\n",
       "      <th>SOUTHERN</th>\n",
       "      <th>SOUTH_C</th>\n",
       "      <th>WEST</th>\n",
       "      <th>ERCOT</th>\n",
       "    </tr>\n",
       "  </thead>\n",
       "  <tbody>\n",
       "    <tr>\n",
       "      <th>0</th>\n",
       "      <td>2012-01-01 01:00:00.003</td>\n",
       "      <td>7748.160500</td>\n",
       "      <td>878.438488</td>\n",
       "      <td>1289.746813</td>\n",
       "      <td>652.153054</td>\n",
       "      <td>8648.989316</td>\n",
       "      <td>2105.379142</td>\n",
       "      <td>4162.162310</td>\n",
       "      <td>849.000892</td>\n",
       "      <td>26334.030515</td>\n",
       "    </tr>\n",
       "    <tr>\n",
       "      <th>1</th>\n",
       "      <td>2012-01-01 01:59:59.997</td>\n",
       "      <td>7559.728089</td>\n",
       "      <td>839.092904</td>\n",
       "      <td>1294.272245</td>\n",
       "      <td>643.483530</td>\n",
       "      <td>8553.212708</td>\n",
       "      <td>2047.755534</td>\n",
       "      <td>4070.416593</td>\n",
       "      <td>845.097363</td>\n",
       "      <td>25853.058967</td>\n",
       "    </tr>\n",
       "    <tr>\n",
       "      <th>2</th>\n",
       "      <td>2012-01-01 03:00:00.000</td>\n",
       "      <td>7337.789042</td>\n",
       "      <td>817.995707</td>\n",
       "      <td>1296.491345</td>\n",
       "      <td>631.940923</td>\n",
       "      <td>8461.317967</td>\n",
       "      <td>1961.909818</td>\n",
       "      <td>3946.994332</td>\n",
       "      <td>840.902848</td>\n",
       "      <td>25295.341984</td>\n",
       "    </tr>\n",
       "    <tr>\n",
       "      <th>3</th>\n",
       "      <td>2012-01-01 04:00:00.003</td>\n",
       "      <td>7161.895539</td>\n",
       "      <td>814.967883</td>\n",
       "      <td>1297.417294</td>\n",
       "      <td>631.428520</td>\n",
       "      <td>8438.693857</td>\n",
       "      <td>1893.148232</td>\n",
       "      <td>3884.929253</td>\n",
       "      <td>845.452257</td>\n",
       "      <td>24967.932835</td>\n",
       "    </tr>\n",
       "    <tr>\n",
       "      <th>4</th>\n",
       "      <td>2012-01-01 04:59:59.997</td>\n",
       "      <td>6984.460743</td>\n",
       "      <td>843.952579</td>\n",
       "      <td>1309.534911</td>\n",
       "      <td>640.892563</td>\n",
       "      <td>8565.433348</td>\n",
       "      <td>1867.358425</td>\n",
       "      <td>3911.610238</td>\n",
       "      <td>862.369386</td>\n",
       "      <td>24985.612193</td>\n",
       "    </tr>\n",
       "  </tbody>\n",
       "</table>\n",
       "</div>"
      ],
      "text/plain": [
       "                 Hour_End        COAST        EAST     FAR_WEST       NORTH  \\\n",
       "0 2012-01-01 01:00:00.003  7748.160500  878.438488  1289.746813  652.153054   \n",
       "1 2012-01-01 01:59:59.997  7559.728089  839.092904  1294.272245  643.483530   \n",
       "2 2012-01-01 03:00:00.000  7337.789042  817.995707  1296.491345  631.940923   \n",
       "3 2012-01-01 04:00:00.003  7161.895539  814.967883  1297.417294  631.428520   \n",
       "4 2012-01-01 04:59:59.997  6984.460743  843.952579  1309.534911  640.892563   \n",
       "\n",
       "       NORTH_C     SOUTHERN      SOUTH_C        WEST         ERCOT  \n",
       "0  8648.989316  2105.379142  4162.162310  849.000892  26334.030515  \n",
       "1  8553.212708  2047.755534  4070.416593  845.097363  25853.058967  \n",
       "2  8461.317967  1961.909818  3946.994332  840.902848  25295.341984  \n",
       "3  8438.693857  1893.148232  3884.929253  845.452257  24967.932835  \n",
       "4  8565.433348  1867.358425  3911.610238  862.369386  24985.612193  "
      ]
     },
     "execution_count": 12,
     "metadata": {},
     "output_type": "execute_result"
    }
   ],
   "source": [
    "data = pd.read_excel(r'D:\\1\\Load\\DataSet\\LoadTexasERCOT.xlsx' )\n",
    "data.head()\n"
   ]
  },
  {
   "cell_type": "code",
   "execution_count": 13,
   "metadata": {},
   "outputs": [
    {
     "data": {
      "text/html": [
       "<div>\n",
       "<style scoped>\n",
       "    .dataframe tbody tr th:only-of-type {\n",
       "        vertical-align: middle;\n",
       "    }\n",
       "\n",
       "    .dataframe tbody tr th {\n",
       "        vertical-align: top;\n",
       "    }\n",
       "\n",
       "    .dataframe thead th {\n",
       "        text-align: right;\n",
       "    }\n",
       "</style>\n",
       "<table border=\"1\" class=\"dataframe\">\n",
       "  <thead>\n",
       "    <tr style=\"text-align: right;\">\n",
       "      <th></th>\n",
       "      <th>Year</th>\n",
       "      <th>Month</th>\n",
       "      <th>Day</th>\n",
       "      <th>Hour</th>\n",
       "      <th>Minute</th>\n",
       "      <th>Relative Humidity</th>\n",
       "      <th>Temperature</th>\n",
       "      <th>Pressure</th>\n",
       "    </tr>\n",
       "  </thead>\n",
       "  <tbody>\n",
       "    <tr>\n",
       "      <th>0</th>\n",
       "      <td>2012</td>\n",
       "      <td>1</td>\n",
       "      <td>1</td>\n",
       "      <td>0</td>\n",
       "      <td>30</td>\n",
       "      <td>39.19</td>\n",
       "      <td>6</td>\n",
       "      <td>950</td>\n",
       "    </tr>\n",
       "    <tr>\n",
       "      <th>1</th>\n",
       "      <td>2012</td>\n",
       "      <td>1</td>\n",
       "      <td>1</td>\n",
       "      <td>1</td>\n",
       "      <td>30</td>\n",
       "      <td>44.45</td>\n",
       "      <td>5</td>\n",
       "      <td>950</td>\n",
       "    </tr>\n",
       "    <tr>\n",
       "      <th>2</th>\n",
       "      <td>2012</td>\n",
       "      <td>1</td>\n",
       "      <td>1</td>\n",
       "      <td>2</td>\n",
       "      <td>30</td>\n",
       "      <td>53.94</td>\n",
       "      <td>4</td>\n",
       "      <td>950</td>\n",
       "    </tr>\n",
       "    <tr>\n",
       "      <th>3</th>\n",
       "      <td>2012</td>\n",
       "      <td>1</td>\n",
       "      <td>1</td>\n",
       "      <td>3</td>\n",
       "      <td>30</td>\n",
       "      <td>63.77</td>\n",
       "      <td>2</td>\n",
       "      <td>960</td>\n",
       "    </tr>\n",
       "    <tr>\n",
       "      <th>4</th>\n",
       "      <td>2012</td>\n",
       "      <td>1</td>\n",
       "      <td>1</td>\n",
       "      <td>4</td>\n",
       "      <td>30</td>\n",
       "      <td>71.93</td>\n",
       "      <td>2</td>\n",
       "      <td>960</td>\n",
       "    </tr>\n",
       "  </tbody>\n",
       "</table>\n",
       "</div>"
      ],
      "text/plain": [
       "   Year  Month  Day  Hour  Minute  Relative Humidity  Temperature  Pressure\n",
       "0  2012      1    1     0      30              39.19            6       950\n",
       "1  2012      1    1     1      30              44.45            5       950\n",
       "2  2012      1    1     2      30              53.94            4       950\n",
       "3  2012      1    1     3      30              63.77            2       960\n",
       "4  2012      1    1     4      30              71.93            2       960"
      ]
     },
     "execution_count": 13,
     "metadata": {},
     "output_type": "execute_result"
    }
   ],
   "source": [
    "data = pd.read_excel(r'D:\\1\\Load\\DataSet\\WeatherStation1.xlsx' )\n",
    "data.head()\n"
   ]
  },
  {
   "cell_type": "code",
   "execution_count": 14,
   "metadata": {},
   "outputs": [
    {
     "data": {
      "text/html": [
       "<div>\n",
       "<style scoped>\n",
       "    .dataframe tbody tr th:only-of-type {\n",
       "        vertical-align: middle;\n",
       "    }\n",
       "\n",
       "    .dataframe tbody tr th {\n",
       "        vertical-align: top;\n",
       "    }\n",
       "\n",
       "    .dataframe thead th {\n",
       "        text-align: right;\n",
       "    }\n",
       "</style>\n",
       "<table border=\"1\" class=\"dataframe\">\n",
       "  <thead>\n",
       "    <tr style=\"text-align: right;\">\n",
       "      <th></th>\n",
       "      <th>Year</th>\n",
       "      <th>Month</th>\n",
       "      <th>Day</th>\n",
       "      <th>Hour</th>\n",
       "      <th>Minute</th>\n",
       "      <th>Relative Humidity</th>\n",
       "      <th>Temperature</th>\n",
       "      <th>Pressure</th>\n",
       "    </tr>\n",
       "  </thead>\n",
       "  <tbody>\n",
       "    <tr>\n",
       "      <th>0</th>\n",
       "      <td>2012</td>\n",
       "      <td>1</td>\n",
       "      <td>1</td>\n",
       "      <td>0</td>\n",
       "      <td>30</td>\n",
       "      <td>63.98</td>\n",
       "      <td>8</td>\n",
       "      <td>950</td>\n",
       "    </tr>\n",
       "    <tr>\n",
       "      <th>1</th>\n",
       "      <td>2012</td>\n",
       "      <td>1</td>\n",
       "      <td>1</td>\n",
       "      <td>1</td>\n",
       "      <td>30</td>\n",
       "      <td>49.59</td>\n",
       "      <td>6</td>\n",
       "      <td>950</td>\n",
       "    </tr>\n",
       "    <tr>\n",
       "      <th>2</th>\n",
       "      <td>2012</td>\n",
       "      <td>1</td>\n",
       "      <td>1</td>\n",
       "      <td>2</td>\n",
       "      <td>30</td>\n",
       "      <td>46.28</td>\n",
       "      <td>4</td>\n",
       "      <td>950</td>\n",
       "    </tr>\n",
       "    <tr>\n",
       "      <th>3</th>\n",
       "      <td>2012</td>\n",
       "      <td>1</td>\n",
       "      <td>1</td>\n",
       "      <td>3</td>\n",
       "      <td>30</td>\n",
       "      <td>52.89</td>\n",
       "      <td>3</td>\n",
       "      <td>960</td>\n",
       "    </tr>\n",
       "    <tr>\n",
       "      <th>4</th>\n",
       "      <td>2012</td>\n",
       "      <td>1</td>\n",
       "      <td>1</td>\n",
       "      <td>4</td>\n",
       "      <td>30</td>\n",
       "      <td>62.81</td>\n",
       "      <td>3</td>\n",
       "      <td>960</td>\n",
       "    </tr>\n",
       "  </tbody>\n",
       "</table>\n",
       "</div>"
      ],
      "text/plain": [
       "   Year  Month  Day  Hour  Minute  Relative Humidity  Temperature  Pressure\n",
       "0  2012      1    1     0      30              63.98            8       950\n",
       "1  2012      1    1     1      30              49.59            6       950\n",
       "2  2012      1    1     2      30              46.28            4       950\n",
       "3  2012      1    1     3      30              52.89            3       960\n",
       "4  2012      1    1     4      30              62.81            3       960"
      ]
     },
     "execution_count": 14,
     "metadata": {},
     "output_type": "execute_result"
    }
   ],
   "source": [
    "data = pd.read_excel(r'D:\\1\\Load\\DataSet\\WeatherStation2.xlsx' )\n",
    "data.head()\n"
   ]
  },
  {
   "cell_type": "code",
   "execution_count": 15,
   "metadata": {},
   "outputs": [
    {
     "data": {
      "text/html": [
       "<div>\n",
       "<style scoped>\n",
       "    .dataframe tbody tr th:only-of-type {\n",
       "        vertical-align: middle;\n",
       "    }\n",
       "\n",
       "    .dataframe tbody tr th {\n",
       "        vertical-align: top;\n",
       "    }\n",
       "\n",
       "    .dataframe thead th {\n",
       "        text-align: right;\n",
       "    }\n",
       "</style>\n",
       "<table border=\"1\" class=\"dataframe\">\n",
       "  <thead>\n",
       "    <tr style=\"text-align: right;\">\n",
       "      <th></th>\n",
       "      <th>Year</th>\n",
       "      <th>Month</th>\n",
       "      <th>Day</th>\n",
       "      <th>Hour</th>\n",
       "      <th>Minute</th>\n",
       "      <th>Relative Humidity</th>\n",
       "      <th>Temperature</th>\n",
       "      <th>Pressure</th>\n",
       "    </tr>\n",
       "  </thead>\n",
       "  <tbody>\n",
       "    <tr>\n",
       "      <th>0</th>\n",
       "      <td>2012</td>\n",
       "      <td>1</td>\n",
       "      <td>1</td>\n",
       "      <td>0</td>\n",
       "      <td>30</td>\n",
       "      <td>42.80</td>\n",
       "      <td>6</td>\n",
       "      <td>960</td>\n",
       "    </tr>\n",
       "    <tr>\n",
       "      <th>1</th>\n",
       "      <td>2012</td>\n",
       "      <td>1</td>\n",
       "      <td>1</td>\n",
       "      <td>1</td>\n",
       "      <td>30</td>\n",
       "      <td>56.15</td>\n",
       "      <td>5</td>\n",
       "      <td>960</td>\n",
       "    </tr>\n",
       "    <tr>\n",
       "      <th>2</th>\n",
       "      <td>2012</td>\n",
       "      <td>1</td>\n",
       "      <td>1</td>\n",
       "      <td>2</td>\n",
       "      <td>30</td>\n",
       "      <td>63.72</td>\n",
       "      <td>3</td>\n",
       "      <td>960</td>\n",
       "    </tr>\n",
       "    <tr>\n",
       "      <th>3</th>\n",
       "      <td>2012</td>\n",
       "      <td>1</td>\n",
       "      <td>1</td>\n",
       "      <td>3</td>\n",
       "      <td>30</td>\n",
       "      <td>69.80</td>\n",
       "      <td>2</td>\n",
       "      <td>960</td>\n",
       "    </tr>\n",
       "    <tr>\n",
       "      <th>4</th>\n",
       "      <td>2012</td>\n",
       "      <td>1</td>\n",
       "      <td>1</td>\n",
       "      <td>4</td>\n",
       "      <td>30</td>\n",
       "      <td>74.92</td>\n",
       "      <td>1</td>\n",
       "      <td>970</td>\n",
       "    </tr>\n",
       "  </tbody>\n",
       "</table>\n",
       "</div>"
      ],
      "text/plain": [
       "   Year  Month  Day  Hour  Minute  Relative Humidity  Temperature  Pressure\n",
       "0  2012      1    1     0      30              42.80            6       960\n",
       "1  2012      1    1     1      30              56.15            5       960\n",
       "2  2012      1    1     2      30              63.72            3       960\n",
       "3  2012      1    1     3      30              69.80            2       960\n",
       "4  2012      1    1     4      30              74.92            1       970"
      ]
     },
     "execution_count": 15,
     "metadata": {},
     "output_type": "execute_result"
    }
   ],
   "source": [
    "data = pd.read_excel(r'D:\\1\\Load\\DataSet\\WeatherStation3.xlsx' )\n",
    "data.head()\n"
   ]
  },
  {
   "cell_type": "code",
   "execution_count": 19,
   "metadata": {},
   "outputs": [],
   "source": [
    "# Code for Scratch"
   ]
  },
  {
   "cell_type": "code",
   "execution_count": 20,
   "metadata": {},
   "outputs": [
    {
     "name": "stdout",
     "output_type": "stream",
     "text": [
      "                 Hour_End        COAST        EAST     FAR_WEST       NORTH  \\\n",
      "0 2012-01-01 01:00:00.003  7748.160500  878.438488  1289.746813  652.153054   \n",
      "1 2012-01-01 01:59:59.997  7559.728089  839.092904  1294.272245  643.483530   \n",
      "2 2012-01-01 03:00:00.000  7337.789042  817.995707  1296.491345  631.940923   \n",
      "3 2012-01-01 04:00:00.003  7161.895539  814.967883  1297.417294  631.428520   \n",
      "4 2012-01-01 04:59:59.997  6984.460743  843.952579  1309.534911  640.892563   \n",
      "\n",
      "       NORTH_C     SOUTHERN      SOUTH_C        WEST         ERCOT  \n",
      "0  8648.989316  2105.379142  4162.162310  849.000892  26334.030515  \n",
      "1  8553.212708  2047.755534  4070.416593  845.097363  25853.058967  \n",
      "2  8461.317967  1961.909818  3946.994332  840.902848  25295.341984  \n",
      "3  8438.693857  1893.148232  3884.929253  845.452257  24967.932835  \n",
      "4  8565.433348  1867.358425  3911.610238  862.369386  24985.612193  \n",
      "   Year  Month  Day  Hour  Minute  Relative Humidity  Temperature  Pressure\n",
      "0  2012      1    1     0      30              39.19            6       950\n",
      "1  2012      1    1     1      30              44.45            5       950\n",
      "2  2012      1    1     2      30              53.94            4       950\n",
      "3  2012      1    1     3      30              63.77            2       960\n",
      "4  2012      1    1     4      30              71.93            2       960\n",
      "   Year  Month  Day  Hour  Minute  Relative Humidity  Temperature  Pressure\n",
      "0  2012      1    1     0      30              63.98            8       950\n",
      "1  2012      1    1     1      30              49.59            6       950\n",
      "2  2012      1    1     2      30              46.28            4       950\n",
      "3  2012      1    1     3      30              52.89            3       960\n",
      "4  2012      1    1     4      30              62.81            3       960\n",
      "   Year  Month  Day  Hour  Minute  Relative Humidity  Temperature  Pressure\n",
      "0  2012      1    1     0      30              42.80            6       960\n",
      "1  2012      1    1     1      30              56.15            5       960\n",
      "2  2012      1    1     2      30              63.72            3       960\n",
      "3  2012      1    1     3      30              69.80            2       960\n",
      "4  2012      1    1     4      30              74.92            1       970\n"
     ]
    }
   ],
   "source": [
    "import pandas as pd\n",
    "\n",
    "# Load the data from the Excel files\n",
    "load_data = pd.read_excel(r'D:\\1\\Load\\DataSet\\LoadTexasERCOT.xlsx')\n",
    "weather1 = pd.read_excel(r'D:\\1\\Load\\DataSet\\WeatherStation1.xlsx')\n",
    "weather2 = pd.read_excel(r'D:\\1\\Load\\DataSet\\WeatherStation2.xlsx')\n",
    "weather3 = pd.read_excel(r'D:\\1\\Load\\DataSet\\WeatherStation3.xlsx')\n",
    "\n",
    "# Check the first few rows of each dataset\n",
    "print(load_data.head())\n",
    "print(weather1.head())\n",
    "print(weather2.head())\n",
    "print(weather3.head())\n"
   ]
  },
  {
   "cell_type": "code",
   "execution_count": 21,
   "metadata": {},
   "outputs": [
    {
     "name": "stdout",
     "output_type": "stream",
     "text": [
      "                 Hour_End        COAST        EAST     FAR_WEST       NORTH  \\\n",
      "0 2012-01-01 01:00:00.003  7748.160500  878.438488  1289.746813  652.153054   \n",
      "1 2012-01-01 01:59:59.997  7559.728089  839.092904  1294.272245  643.483530   \n",
      "2 2012-01-01 03:00:00.000  7337.789042  817.995707  1296.491345  631.940923   \n",
      "3 2012-01-01 04:00:00.003  7161.895539  814.967883  1297.417294  631.428520   \n",
      "4 2012-01-01 04:59:59.997  6984.460743  843.952579  1309.534911  640.892563   \n",
      "\n",
      "       NORTH_C     SOUTHERN      SOUTH_C        WEST         ERCOT  Year  \\\n",
      "0  8648.989316  2105.379142  4162.162310  849.000892  26334.030515  2012   \n",
      "1  8553.212708  2047.755534  4070.416593  845.097363  25853.058967  2012   \n",
      "2  8461.317967  1961.909818  3946.994332  840.902848  25295.341984  2012   \n",
      "3  8438.693857  1893.148232  3884.929253  845.452257  24967.932835  2012   \n",
      "4  8565.433348  1867.358425  3911.610238  862.369386  24985.612193  2012   \n",
      "\n",
      "   Month  Day  Hour  Minute  \n",
      "0      1    1     1       0  \n",
      "1      1    1     1      59  \n",
      "2      1    1     3       0  \n",
      "3      1    1     4       0  \n",
      "4      1    1     4      59  \n"
     ]
    }
   ],
   "source": [
    "# Convert 'Hour_End' to datetime format (if not already)\n",
    "load_data['Hour_End'] = pd.to_datetime(load_data['Hour_End'])\n",
    "\n",
    "# Extract year, month, day, hour, and minute from 'Hour_End'\n",
    "load_data['Year'] = load_data['Hour_End'].dt.year\n",
    "load_data['Month'] = load_data['Hour_End'].dt.month\n",
    "load_data['Day'] = load_data['Hour_End'].dt.day\n",
    "load_data['Hour'] = load_data['Hour_End'].dt.hour\n",
    "load_data['Minute'] = load_data['Hour_End'].dt.minute\n",
    "\n",
    "# Now, the load_data dataframe has the necessary time-based columns\n",
    "print(load_data.head())\n"
   ]
  },
  {
   "cell_type": "code",
   "execution_count": 22,
   "metadata": {},
   "outputs": [
    {
     "name": "stdout",
     "output_type": "stream",
     "text": [
      "Index(['Year', 'Month', 'Day', 'Hour', 'Minute', 'Relative Humidity',\n",
      "       'Temperature', 'Pressure'],\n",
      "      dtype='object')\n",
      "Index(['Year', 'Month', 'Day', 'Hour', 'Minute', 'Relative Humidity',\n",
      "       'Temperature', 'Pressure'],\n",
      "      dtype='object')\n",
      "Index(['Year', 'Month', 'Day', 'Hour', 'Minute', 'Relative Humidity',\n",
      "       'Temperature', 'Pressure'],\n",
      "      dtype='object')\n",
      "Index(['Year', 'Month', 'Day', 'Hour', 'Minute', 'Relative Humidity',\n",
      "       'Temperature', 'Pressure'],\n",
      "      dtype='object')\n",
      "Index(['Year', 'Month', 'Day', 'Hour', 'Minute', 'Relative Humidity',\n",
      "       'Temperature', 'Pressure'],\n",
      "      dtype='object')\n",
      "Index(['Year', 'Month', 'Day', 'Hour', 'Minute', 'Relative Humidity',\n",
      "       'Temperature', 'Pressure'],\n",
      "      dtype='object')\n"
     ]
    }
   ],
   "source": [
    "# Check the columns in each weather dataset\n",
    "print(weather1.columns)\n",
    "print(weather2.columns)\n",
    "print(weather3.columns)\n",
    "\n",
    "# Rename the columns to ensure consistency (if necessary)\n",
    "weather1.rename(columns={\"Year\": \"Year\", \"Month\": \"Month\", \"Day\": \"Day\", \"Hour\": \"Hour\", \"Minute\": \"Minute\"}, inplace=True)\n",
    "weather2.rename(columns={\"Year\": \"Year\", \"Month\": \"Month\", \"Day\": \"Day\", \"Hour\": \"Hour\", \"Minute\": \"Minute\"}, inplace=True)\n",
    "weather3.rename(columns={\"Year\": \"Year\", \"Month\": \"Month\", \"Day\": \"Day\", \"Hour\": \"Hour\", \"Minute\": \"Minute\"}, inplace=True)\n",
    "\n",
    "# Check the updated column names\n",
    "print(weather1.columns)\n",
    "print(weather2.columns)\n",
    "print(weather3.columns)\n"
   ]
  },
  {
   "cell_type": "code",
   "execution_count": 23,
   "metadata": {},
   "outputs": [
    {
     "name": "stdout",
     "output_type": "stream",
     "text": [
      "Empty DataFrame\n",
      "Columns: [Hour_End, COAST, EAST, FAR_WEST, NORTH, NORTH_C, SOUTHERN, SOUTH_C, WEST, ERCOT, Year, Month, Day, Hour, Minute, Relative Humidity_x, Temperature_x, Pressure_x, Relative Humidity_y, Temperature_y, Pressure_y, Relative Humidity, Temperature, Pressure]\n",
      "Index: []\n",
      "\n",
      "[0 rows x 24 columns]\n"
     ]
    }
   ],
   "source": [
    "# Merge the load data with weather data on Year, Month, Day, Hour, and Minute\n",
    "merged_data = load_data.merge(weather1, on=[\"Year\", \"Month\", \"Day\", \"Hour\", \"Minute\"], how=\"inner\")\n",
    "merged_data = merged_data.merge(weather2, on=[\"Year\", \"Month\", \"Day\", \"Hour\", \"Minute\"], how=\"inner\")\n",
    "merged_data = merged_data.merge(weather3, on=[\"Year\", \"Month\", \"Day\", \"Hour\", \"Minute\"], how=\"inner\")\n",
    "\n",
    "# Check the merged data\n",
    "print(merged_data.head())\n"
   ]
  },
  {
   "cell_type": "code",
   "execution_count": 27,
   "metadata": {},
   "outputs": [
    {
     "name": "stdout",
     "output_type": "stream",
     "text": [
      "Preprocessed dataset is ready!\n",
      "      COAST      EAST  FAR_WEST     NORTH   NORTH_C  SOUTHERN   SOUTH_C  \\\n",
      "0  0.095845  0.068262  0.093004  0.136596  0.086512  0.115952  0.074865   \n",
      "1  0.081858  0.045141  0.095701  0.128342  0.081077  0.100746  0.064081   \n",
      "2  0.065383  0.032743  0.097023  0.117354  0.075863  0.078092  0.049573   \n",
      "3  0.052327  0.030963  0.097575  0.116866  0.074579  0.059946  0.042277   \n",
      "4  0.039156  0.047996  0.104796  0.125876  0.081771  0.053141  0.045414   \n",
      "\n",
      "       WEST  Year  Month  Day      Hour  Relative Humidity  Temperature  \\\n",
      "0  0.173468   0.0    0.0  0.0  0.045455           0.454522     0.265306   \n",
      "1  0.170351   0.0    0.0  0.0  0.045455           0.454522     0.265306   \n",
      "2  0.167001   0.0    0.0  0.0  0.136364           0.586586     0.204082   \n",
      "3  0.170634   0.0    0.0  0.0  0.181818           0.671060     0.197279   \n",
      "4  0.184145   0.0    0.0  0.0  0.181818           0.671060     0.197279   \n",
      "\n",
      "   Pressure         ERCOT  \n",
      "0  0.538462  26334.030515  \n",
      "1  0.538462  25853.058967  \n",
      "2  0.692308  25295.341984  \n",
      "3  0.769231  24967.932835  \n",
      "4  0.769231  24985.612193  \n"
     ]
    },
    {
     "name": "stderr",
     "output_type": "stream",
     "text": [
      "C:\\Users\\abc\\AppData\\Local\\Temp\\ipykernel_15072\\1951184286.py:28: FutureWarning: DataFrame.fillna with 'method' is deprecated and will raise in a future version. Use obj.ffill() or obj.bfill() instead.\n",
      "  merged_data = merged_data.fillna(method='ffill').fillna(method='bfill')\n"
     ]
    }
   ],
   "source": [
    "import pandas as pd\n",
    "import numpy as np\n",
    "\n",
    "# Load the data\n",
    "load_data = pd.read_excel(r'D:\\1\\Load\\DataSet\\LoadTexasERCOT.xlsx')\n",
    "weather1 = pd.read_excel(r'D:\\1\\Load\\DataSet\\WeatherStation1.xlsx')\n",
    "weather2 = pd.read_excel(r'D:\\1\\Load\\DataSet\\WeatherStation2.xlsx')\n",
    "weather3 = pd.read_excel(r'D:\\1\\Load\\DataSet\\WeatherStation3.xlsx')\n",
    "\n",
    "# Convert 'Hour_End' to datetime format\n",
    "load_data['Hour_End'] = pd.to_datetime(load_data['Hour_End'])\n",
    "\n",
    "# Merge weather data (Assuming all weather stations are equally important, take the average)\n",
    "weather_data = pd.concat([weather1, weather2, weather3]).groupby(['Year', 'Month', 'Day', 'Hour']).mean().reset_index()\n",
    "\n",
    "# Merge with load data based on Year, Month, Day, Hour\n",
    "load_data['Year'] = load_data['Hour_End'].dt.year\n",
    "load_data['Month'] = load_data['Hour_End'].dt.month\n",
    "load_data['Day'] = load_data['Hour_End'].dt.day\n",
    "load_data['Hour'] = load_data['Hour_End'].dt.hour\n",
    "\n",
    "merged_data = pd.merge(load_data, weather_data, on=['Year', 'Month', 'Day', 'Hour'], how='inner')\n",
    "\n",
    "# Drop unnecessary columns\n",
    "merged_data = merged_data.drop(columns=['Hour_End', 'Minute'])\n",
    "\n",
    "# Handle missing values\n",
    "merged_data = merged_data.fillna(method='ffill').fillna(method='bfill')\n",
    "\n",
    "# Normalize data\n",
    "from sklearn.preprocessing import MinMaxScaler\n",
    "\n",
    "scaler = MinMaxScaler()\n",
    "scaled_features = scaler.fit_transform(merged_data.drop(columns=['ERCOT']))\n",
    "scaled_data = pd.DataFrame(scaled_features, columns=merged_data.columns.drop('ERCOT'))\n",
    "scaled_data['ERCOT'] = merged_data['ERCOT'].values  # Keep target unscaled for now\n",
    "\n",
    "print(\"Preprocessed dataset is ready!\")\n",
    "print(scaled_data.head())\n"
   ]
  },
  {
   "cell_type": "code",
   "execution_count": 30,
   "metadata": {},
   "outputs": [
    {
     "name": "stdout",
     "output_type": "stream",
     "text": [
      "Preprocessed dataset is ready!\n",
      "      COAST  Day      EAST  FAR_WEST      Hour  Month     NORTH   NORTH_C  \\\n",
      "0  0.095845  0.0  0.068262  0.093004  0.045455    0.0  0.136596  0.086512   \n",
      "1  0.081858  0.0  0.045141  0.095701  0.045455    0.0  0.128342  0.081077   \n",
      "2  0.065383  0.0  0.032743  0.097023  0.136364    0.0  0.117354  0.075863   \n",
      "3  0.052327  0.0  0.030963  0.097575  0.181818    0.0  0.116866  0.074579   \n",
      "4  0.039156  0.0  0.047996  0.104796  0.181818    0.0  0.125876  0.081771   \n",
      "\n",
      "   Pressure  Relative Humidity  SOUTHERN   SOUTH_C  Temperature      WEST  \\\n",
      "0  0.538462           0.454522  0.115952  0.074865     0.265306  0.173468   \n",
      "1  0.538462           0.454522  0.100746  0.064081     0.265306  0.170351   \n",
      "2  0.692308           0.586586  0.078092  0.049573     0.204082  0.167001   \n",
      "3  0.769231           0.671060  0.059946  0.042277     0.197279  0.170634   \n",
      "4  0.769231           0.671060  0.053141  0.045414     0.197279  0.184145   \n",
      "\n",
      "   Year         ERCOT  \n",
      "0   0.0  26334.030515  \n",
      "1   0.0  25853.058967  \n",
      "2   0.0  25295.341984  \n",
      "3   0.0  24967.932835  \n",
      "4   0.0  24985.612193  \n"
     ]
    }
   ],
   "source": [
    "import pandas as pd\n",
    "import numpy as np\n",
    "from sklearn.preprocessing import MinMaxScaler\n",
    "\n",
    "# Load the data\n",
    "load_data = pd.read_excel(r'D:\\1\\Load\\DataSet\\LoadTexasERCOT.xlsx')\n",
    "weather1 = pd.read_excel(r'D:\\1\\Load\\DataSet\\WeatherStation1.xlsx')\n",
    "weather2 = pd.read_excel(r'D:\\1\\Load\\DataSet\\WeatherStation2.xlsx')\n",
    "weather3 = pd.read_excel(r'D:\\1\\Load\\DataSet\\WeatherStation3.xlsx')\n",
    "\n",
    "# Convert 'Hour_End' to datetime format\n",
    "load_data['Hour_End'] = pd.to_datetime(load_data['Hour_End'])\n",
    "\n",
    "# Extract time features\n",
    "load_data['Year'] = load_data['Hour_End'].dt.year\n",
    "load_data['Month'] = load_data['Hour_End'].dt.month\n",
    "load_data['Day'] = load_data['Hour_End'].dt.day\n",
    "load_data['Hour'] = load_data['Hour_End'].dt.hour\n",
    "\n",
    "# Merge weather data (average across stations)\n",
    "weather_data = pd.concat([weather1, weather2, weather3]).groupby(['Year', 'Month', 'Day', 'Hour']).mean().reset_index()\n",
    "\n",
    "# Merge with load data\n",
    "merged_data = pd.merge(load_data, weather_data, on=['Year', 'Month', 'Day', 'Hour'], how='inner')\n",
    "\n",
    "# Drop unnecessary columns\n",
    "merged_data = merged_data.drop(columns=['Hour_End', 'Minute'], errors='ignore')  # Ignore errors in case 'Minute' doesn't exist\n",
    "\n",
    "# Handle missing values\n",
    "merged_data = merged_data.ffill().bfill()  # Use new recommended method\n",
    "\n",
    "# Separate target variable before scaling\n",
    "target = merged_data['ERCOT'].values  # Keep target variable separately\n",
    "\n",
    "# Normalize features\n",
    "scaler = MinMaxScaler()\n",
    "feature_columns = merged_data.columns.difference(['ERCOT'])  # Exclude target from scaling\n",
    "scaled_features = scaler.fit_transform(merged_data[feature_columns])\n",
    "\n",
    "# Convert back to DataFrame\n",
    "scaled_data = pd.DataFrame(scaled_features, columns=feature_columns)\n",
    "scaled_data['ERCOT'] = target  # Reattach unscaled target\n",
    "\n",
    "print(\"Preprocessed dataset is ready!\")\n",
    "print(scaled_data.head())\n"
   ]
  },
  {
   "cell_type": "code",
   "execution_count": 38,
   "metadata": {},
   "outputs": [
    {
     "name": "stdout",
     "output_type": "stream",
     "text": [
      "Preprocessed dataset is ready!\n",
      "                            COAST      EAST  FAR_WEST     NORTH   NORTH_C  \\\n",
      "2012-01-01 00:30:00.000  0.095845  0.068262  0.093004  0.136596  0.086512   \n",
      "2012-01-01 01:00:00.003  0.095845  0.068262  0.093004  0.136596  0.086512   \n",
      "2012-01-01 01:30:00.000  0.095845  0.068262  0.093004  0.136596  0.086512   \n",
      "2012-01-01 01:59:59.997  0.081858  0.045141  0.095701  0.128342  0.081077   \n",
      "2012-01-01 02:30:00.000  0.081858  0.045141  0.095701  0.128342  0.081077   \n",
      "\n",
      "                         SOUTHERN   SOUTH_C      WEST  Year_x  Month_x  ...  \\\n",
      "2012-01-01 00:30:00.000  0.115952  0.074865  0.173468     0.0      0.0  ...   \n",
      "2012-01-01 01:00:00.003  0.115952  0.074865  0.173468     0.0      0.0  ...   \n",
      "2012-01-01 01:30:00.000  0.115952  0.074865  0.173468     0.0      0.0  ...   \n",
      "2012-01-01 01:59:59.997  0.100746  0.064081  0.170351     0.0      0.0  ...   \n",
      "2012-01-01 02:30:00.000  0.100746  0.064081  0.170351     0.0      0.0  ...   \n",
      "\n",
      "                         Pressure_y  Year  Month  Day      Hour  Minute  \\\n",
      "2012-01-01 00:30:00.000         0.5   0.0    0.0  0.0  0.000000     0.0   \n",
      "2012-01-01 01:00:00.003         0.5   0.0    0.0  0.0  0.000000     0.0   \n",
      "2012-01-01 01:30:00.000         0.5   0.0    0.0  0.0  0.043478     0.0   \n",
      "2012-01-01 01:59:59.997         0.5   0.0    0.0  0.0  0.043478     0.0   \n",
      "2012-01-01 02:30:00.000         0.5   0.0    0.0  0.0  0.086957     0.0   \n",
      "\n",
      "                         Relative Humidity  Temperature  Pressure  \\\n",
      "2012-01-01 00:30:00.000           0.379610     0.294118       0.6   \n",
      "2012-01-01 01:00:00.003           0.379610     0.294118       0.6   \n",
      "2012-01-01 01:30:00.000           0.524403     0.274510       0.6   \n",
      "2012-01-01 01:59:59.997           0.524403     0.274510       0.6   \n",
      "2012-01-01 02:30:00.000           0.606508     0.235294       0.6   \n",
      "\n",
      "                                ERCOT  \n",
      "2012-01-01 00:30:00.000  26334.030515  \n",
      "2012-01-01 01:00:00.003  26334.030515  \n",
      "2012-01-01 01:30:00.000  26334.030515  \n",
      "2012-01-01 01:59:59.997  25853.058967  \n",
      "2012-01-01 02:30:00.000  25853.058967  \n",
      "\n",
      "[5 rows x 33 columns]\n"
     ]
    },
    {
     "name": "stderr",
     "output_type": "stream",
     "text": [
      "C:\\Users\\abc\\AppData\\Local\\Temp\\ipykernel_15072\\623997538.py:28: FutureWarning: DataFrame.fillna with 'method' is deprecated and will raise in a future version. Use obj.ffill() or obj.bfill() instead.\n",
      "  merged_data.fillna(method='ffill', inplace=True)\n",
      "C:\\Users\\abc\\AppData\\Local\\Temp\\ipykernel_15072\\623997538.py:29: FutureWarning: DataFrame.fillna with 'method' is deprecated and will raise in a future version. Use obj.ffill() or obj.bfill() instead.\n",
      "  merged_data.fillna(method='bfill', inplace=True)\n"
     ]
    }
   ],
   "source": [
    "import pandas as pd\n",
    "\n",
    "# Load ERCOT electricity load data\n",
    "ercot_data = pd.read_excel(r'D:\\1\\Load\\DataSet\\LoadTexasERCOT.xlsx')\n",
    "\n",
    "# Convert 'Hour_End' to datetime and set it as index\n",
    "ercot_data['Hour_End'] = pd.to_datetime(ercot_data['Hour_End'])\n",
    "ercot_data.set_index('Hour_End', inplace=True)\n",
    "\n",
    "# Load weather data\n",
    "weather_data1 = pd.read_excel(r'D:\\1\\Load\\DataSet\\WeatherStation1.xlsx')\n",
    "weather_data2 = pd.read_excel(r'D:\\1\\Load\\DataSet\\WeatherStation2.xlsx')\n",
    "weather_data3 = pd.read_excel(r'D:\\1\\Load\\DataSet\\WeatherStation3.xlsx')\n",
    "\n",
    "# Convert Hour, Minute, and Date columns to datetime for weather data\n",
    "for weather_data in [weather_data1, weather_data2, weather_data3]:\n",
    "    weather_data['Datetime'] = pd.to_datetime(\n",
    "        weather_data[['Year', 'Month', 'Day', 'Hour', 'Minute']]\n",
    "    )\n",
    "    weather_data.set_index('Datetime', inplace=True)\n",
    "\n",
    "# Merge weather data with ERCOT data on timestamp\n",
    "merged_data = ercot_data.copy()\n",
    "for weather_data in [weather_data1, weather_data2, weather_data3]:\n",
    "    merged_data = merged_data.merge(weather_data, left_index=True, right_index=True, how='outer')\n",
    "\n",
    "# Fill missing values\n",
    "merged_data.fillna(method='ffill', inplace=True)\n",
    "merged_data.fillna(method='bfill', inplace=True)\n",
    "\n",
    "# Normalize/scale features (excluding target 'ERCOT')\n",
    "from sklearn.preprocessing import MinMaxScaler\n",
    "\n",
    "scaler = MinMaxScaler()\n",
    "features = merged_data.drop(columns=['ERCOT'])\n",
    "scaled_features = scaler.fit_transform(features)\n",
    "scaled_data = pd.DataFrame(scaled_features, columns=features.columns, index=features.index)\n",
    "\n",
    "# Add the target variable back\n",
    "scaled_data['ERCOT'] = merged_data['ERCOT']\n",
    "\n",
    "print(\"Preprocessed dataset is ready!\")\n",
    "print(scaled_data.head())\n"
   ]
  },
  {
   "cell_type": "code",
   "execution_count": 39,
   "metadata": {},
   "outputs": [],
   "source": [
    "# Load ERCOT Electricity Load Data\n",
    "data = pd.read_excel(r'D:\\1\\Load\\DataSet\\LoadTexasERCOT.xlsx')\n",
    "\n",
    "# Convert timestamp column to datetime\n",
    "data['Hour_End'] = pd.to_datetime(data['Hour_End'])\n",
    "data.set_index('Hour_End', inplace=True)\n",
    "\n",
    "# Extract Features\n",
    "data['Hour'] = data.index.hour\n",
    "data['Day'] = data.index.day\n",
    "data['Month'] = data.index.month\n",
    "data['Weekday'] = data.index.weekday\n",
    "\n",
    "# Target Variable: ERCOT Load\n",
    "ercot_values = data['ERCOT']\n",
    "\n",
    "# Train-Test Split (2012-2014 for training, 2015 for testing)\n",
    "train_data = ercot_values['2012':'2014']\n",
    "test_data = ercot_values['2015']\n",
    "\n",
    "# Normalize the data (Min-Max Scaling)\n",
    "scaler = MinMaxScaler()\n",
    "train_scaled = scaler.fit_transform(train_data.values.reshape(-1, 1))\n",
    "test_scaled = scaler.transform(test_data.values.reshape(-1, 1))\n"
   ]
  },
  {
   "cell_type": "code",
   "execution_count": 40,
   "metadata": {},
   "outputs": [],
   "source": [
    "def create_sequences(data, seq_length):\n",
    "    x, y = [], []\n",
    "    for i in range(len(data) - seq_length):\n",
    "        x.append(data[i:i + seq_length])  # Past sequence length data\n",
    "        y.append(data[i + seq_length])    # Target value\n",
    "    return np.array(x), np.array(y)\n",
    "\n",
    "seq_length = 24  # Use past 24 hours to predict the next value\n",
    "x_train, y_train = create_sequences(train_scaled, seq_length)\n",
    "x_test, y_test = create_sequences(test_scaled, seq_length)\n",
    "\n",
    "# Reshape inputs to fit GRU model\n",
    "x_train = x_train.reshape(x_train.shape[0], x_train.shape[1], 1)\n",
    "x_test = x_test.reshape(x_test.shape[0], x_test.shape[1], 1)\n"
   ]
  },
  {
   "cell_type": "code",
   "execution_count": 41,
   "metadata": {},
   "outputs": [
    {
     "name": "stderr",
     "output_type": "stream",
     "text": [
      "d:\\1\\alpha\\lib\\site-packages\\keras\\src\\layers\\rnn\\rnn.py:200: UserWarning: Do not pass an `input_shape`/`input_dim` argument to a layer. When using Sequential models, prefer using an `Input(shape)` object as the first layer in the model instead.\n",
      "  super().__init__(**kwargs)\n"
     ]
    },
    {
     "data": {
      "text/html": [
       "<pre style=\"white-space:pre;overflow-x:auto;line-height:normal;font-family:Menlo,'DejaVu Sans Mono',consolas,'Courier New',monospace\"><span style=\"font-weight: bold\">Model: \"sequential\"</span>\n",
       "</pre>\n"
      ],
      "text/plain": [
       "\u001b[1mModel: \"sequential\"\u001b[0m\n"
      ]
     },
     "metadata": {},
     "output_type": "display_data"
    },
    {
     "data": {
      "text/html": [
       "<pre style=\"white-space:pre;overflow-x:auto;line-height:normal;font-family:Menlo,'DejaVu Sans Mono',consolas,'Courier New',monospace\">┏━━━━━━━━━━━━━━━━━━━━━━━━━━━━━━━━━┳━━━━━━━━━━━━━━━━━━━━━━━━┳━━━━━━━━━━━━━━━┓\n",
       "┃<span style=\"font-weight: bold\"> Layer (type)                    </span>┃<span style=\"font-weight: bold\"> Output Shape           </span>┃<span style=\"font-weight: bold\">       Param # </span>┃\n",
       "┡━━━━━━━━━━━━━━━━━━━━━━━━━━━━━━━━━╇━━━━━━━━━━━━━━━━━━━━━━━━╇━━━━━━━━━━━━━━━┩\n",
       "│ gru (<span style=\"color: #0087ff; text-decoration-color: #0087ff\">GRU</span>)                       │ (<span style=\"color: #00d7ff; text-decoration-color: #00d7ff\">None</span>, <span style=\"color: #00af00; text-decoration-color: #00af00\">24</span>, <span style=\"color: #00af00; text-decoration-color: #00af00\">100</span>)        │        <span style=\"color: #00af00; text-decoration-color: #00af00\">30,900</span> │\n",
       "├─────────────────────────────────┼────────────────────────┼───────────────┤\n",
       "│ dropout (<span style=\"color: #0087ff; text-decoration-color: #0087ff\">Dropout</span>)               │ (<span style=\"color: #00d7ff; text-decoration-color: #00d7ff\">None</span>, <span style=\"color: #00af00; text-decoration-color: #00af00\">24</span>, <span style=\"color: #00af00; text-decoration-color: #00af00\">100</span>)        │             <span style=\"color: #00af00; text-decoration-color: #00af00\">0</span> │\n",
       "├─────────────────────────────────┼────────────────────────┼───────────────┤\n",
       "│ gru_1 (<span style=\"color: #0087ff; text-decoration-color: #0087ff\">GRU</span>)                     │ (<span style=\"color: #00d7ff; text-decoration-color: #00d7ff\">None</span>, <span style=\"color: #00af00; text-decoration-color: #00af00\">50</span>)             │        <span style=\"color: #00af00; text-decoration-color: #00af00\">22,800</span> │\n",
       "├─────────────────────────────────┼────────────────────────┼───────────────┤\n",
       "│ dropout_1 (<span style=\"color: #0087ff; text-decoration-color: #0087ff\">Dropout</span>)             │ (<span style=\"color: #00d7ff; text-decoration-color: #00d7ff\">None</span>, <span style=\"color: #00af00; text-decoration-color: #00af00\">50</span>)             │             <span style=\"color: #00af00; text-decoration-color: #00af00\">0</span> │\n",
       "├─────────────────────────────────┼────────────────────────┼───────────────┤\n",
       "│ dense (<span style=\"color: #0087ff; text-decoration-color: #0087ff\">Dense</span>)                   │ (<span style=\"color: #00d7ff; text-decoration-color: #00d7ff\">None</span>, <span style=\"color: #00af00; text-decoration-color: #00af00\">25</span>)             │         <span style=\"color: #00af00; text-decoration-color: #00af00\">1,275</span> │\n",
       "├─────────────────────────────────┼────────────────────────┼───────────────┤\n",
       "│ dense_1 (<span style=\"color: #0087ff; text-decoration-color: #0087ff\">Dense</span>)                 │ (<span style=\"color: #00d7ff; text-decoration-color: #00d7ff\">None</span>, <span style=\"color: #00af00; text-decoration-color: #00af00\">1</span>)              │            <span style=\"color: #00af00; text-decoration-color: #00af00\">26</span> │\n",
       "└─────────────────────────────────┴────────────────────────┴───────────────┘\n",
       "</pre>\n"
      ],
      "text/plain": [
       "┏━━━━━━━━━━━━━━━━━━━━━━━━━━━━━━━━━┳━━━━━━━━━━━━━━━━━━━━━━━━┳━━━━━━━━━━━━━━━┓\n",
       "┃\u001b[1m \u001b[0m\u001b[1mLayer (type)                   \u001b[0m\u001b[1m \u001b[0m┃\u001b[1m \u001b[0m\u001b[1mOutput Shape          \u001b[0m\u001b[1m \u001b[0m┃\u001b[1m \u001b[0m\u001b[1m      Param #\u001b[0m\u001b[1m \u001b[0m┃\n",
       "┡━━━━━━━━━━━━━━━━━━━━━━━━━━━━━━━━━╇━━━━━━━━━━━━━━━━━━━━━━━━╇━━━━━━━━━━━━━━━┩\n",
       "│ gru (\u001b[38;5;33mGRU\u001b[0m)                       │ (\u001b[38;5;45mNone\u001b[0m, \u001b[38;5;34m24\u001b[0m, \u001b[38;5;34m100\u001b[0m)        │        \u001b[38;5;34m30,900\u001b[0m │\n",
       "├─────────────────────────────────┼────────────────────────┼───────────────┤\n",
       "│ dropout (\u001b[38;5;33mDropout\u001b[0m)               │ (\u001b[38;5;45mNone\u001b[0m, \u001b[38;5;34m24\u001b[0m, \u001b[38;5;34m100\u001b[0m)        │             \u001b[38;5;34m0\u001b[0m │\n",
       "├─────────────────────────────────┼────────────────────────┼───────────────┤\n",
       "│ gru_1 (\u001b[38;5;33mGRU\u001b[0m)                     │ (\u001b[38;5;45mNone\u001b[0m, \u001b[38;5;34m50\u001b[0m)             │        \u001b[38;5;34m22,800\u001b[0m │\n",
       "├─────────────────────────────────┼────────────────────────┼───────────────┤\n",
       "│ dropout_1 (\u001b[38;5;33mDropout\u001b[0m)             │ (\u001b[38;5;45mNone\u001b[0m, \u001b[38;5;34m50\u001b[0m)             │             \u001b[38;5;34m0\u001b[0m │\n",
       "├─────────────────────────────────┼────────────────────────┼───────────────┤\n",
       "│ dense (\u001b[38;5;33mDense\u001b[0m)                   │ (\u001b[38;5;45mNone\u001b[0m, \u001b[38;5;34m25\u001b[0m)             │         \u001b[38;5;34m1,275\u001b[0m │\n",
       "├─────────────────────────────────┼────────────────────────┼───────────────┤\n",
       "│ dense_1 (\u001b[38;5;33mDense\u001b[0m)                 │ (\u001b[38;5;45mNone\u001b[0m, \u001b[38;5;34m1\u001b[0m)              │            \u001b[38;5;34m26\u001b[0m │\n",
       "└─────────────────────────────────┴────────────────────────┴───────────────┘\n"
      ]
     },
     "metadata": {},
     "output_type": "display_data"
    },
    {
     "data": {
      "text/html": [
       "<pre style=\"white-space:pre;overflow-x:auto;line-height:normal;font-family:Menlo,'DejaVu Sans Mono',consolas,'Courier New',monospace\"><span style=\"font-weight: bold\"> Total params: </span><span style=\"color: #00af00; text-decoration-color: #00af00\">55,001</span> (214.85 KB)\n",
       "</pre>\n"
      ],
      "text/plain": [
       "\u001b[1m Total params: \u001b[0m\u001b[38;5;34m55,001\u001b[0m (214.85 KB)\n"
      ]
     },
     "metadata": {},
     "output_type": "display_data"
    },
    {
     "data": {
      "text/html": [
       "<pre style=\"white-space:pre;overflow-x:auto;line-height:normal;font-family:Menlo,'DejaVu Sans Mono',consolas,'Courier New',monospace\"><span style=\"font-weight: bold\"> Trainable params: </span><span style=\"color: #00af00; text-decoration-color: #00af00\">55,001</span> (214.85 KB)\n",
       "</pre>\n"
      ],
      "text/plain": [
       "\u001b[1m Trainable params: \u001b[0m\u001b[38;5;34m55,001\u001b[0m (214.85 KB)\n"
      ]
     },
     "metadata": {},
     "output_type": "display_data"
    },
    {
     "data": {
      "text/html": [
       "<pre style=\"white-space:pre;overflow-x:auto;line-height:normal;font-family:Menlo,'DejaVu Sans Mono',consolas,'Courier New',monospace\"><span style=\"font-weight: bold\"> Non-trainable params: </span><span style=\"color: #00af00; text-decoration-color: #00af00\">0</span> (0.00 B)\n",
       "</pre>\n"
      ],
      "text/plain": [
       "\u001b[1m Non-trainable params: \u001b[0m\u001b[38;5;34m0\u001b[0m (0.00 B)\n"
      ]
     },
     "metadata": {},
     "output_type": "display_data"
    }
   ],
   "source": [
    "model = Sequential([\n",
    "    GRU(100, activation='relu', return_sequences=True, input_shape=(seq_length, 1)),  # First GRU Layer\n",
    "    Dropout(0.2),  \n",
    "    GRU(50, activation='relu', return_sequences=False),  # Second GRU Layer\n",
    "    Dropout(0.2),\n",
    "    Dense(25, activation='relu'),  # Fully connected layer\n",
    "    Dense(1)  # Output layer\n",
    "])\n",
    "\n",
    "# Compile Model\n",
    "model.compile(optimizer='adam', loss='mse')\n",
    "model.summary()\n"
   ]
  },
  {
   "cell_type": "code",
   "execution_count": 42,
   "metadata": {},
   "outputs": [
    {
     "name": "stdout",
     "output_type": "stream",
     "text": [
      "Epoch 1/20\n",
      "\u001b[1m822/822\u001b[0m \u001b[32m━━━━━━━━━━━━━━━━━━━━\u001b[0m\u001b[37m\u001b[0m \u001b[1m72s\u001b[0m 71ms/step - loss: 0.0132 - val_loss: 0.0012\n",
      "Epoch 2/20\n",
      "\u001b[1m822/822\u001b[0m \u001b[32m━━━━━━━━━━━━━━━━━━━━\u001b[0m\u001b[37m\u001b[0m \u001b[1m76s\u001b[0m 64ms/step - loss: 0.0017 - val_loss: 0.0012\n",
      "Epoch 3/20\n",
      "\u001b[1m822/822\u001b[0m \u001b[32m━━━━━━━━━━━━━━━━━━━━\u001b[0m\u001b[37m\u001b[0m \u001b[1m53s\u001b[0m 65ms/step - loss: 0.0012 - val_loss: 0.0027\n",
      "Epoch 4/20\n",
      "\u001b[1m822/822\u001b[0m \u001b[32m━━━━━━━━━━━━━━━━━━━━\u001b[0m\u001b[37m\u001b[0m \u001b[1m82s\u001b[0m 64ms/step - loss: 9.4001e-04 - val_loss: 0.0038\n",
      "Epoch 5/20\n",
      "\u001b[1m822/822\u001b[0m \u001b[32m━━━━━━━━━━━━━━━━━━━━\u001b[0m\u001b[37m\u001b[0m \u001b[1m93s\u001b[0m 77ms/step - loss: 7.7306e-04 - val_loss: 0.0022\n",
      "Epoch 6/20\n",
      "\u001b[1m822/822\u001b[0m \u001b[32m━━━━━━━━━━━━━━━━━━━━\u001b[0m\u001b[37m\u001b[0m \u001b[1m73s\u001b[0m 66ms/step - loss: 7.1709e-04 - val_loss: 0.0020\n",
      "Epoch 7/20\n",
      "\u001b[1m822/822\u001b[0m \u001b[32m━━━━━━━━━━━━━━━━━━━━\u001b[0m\u001b[37m\u001b[0m \u001b[1m55s\u001b[0m 67ms/step - loss: 6.7931e-04 - val_loss: 0.0039\n",
      "Epoch 8/20\n",
      "\u001b[1m822/822\u001b[0m \u001b[32m━━━━━━━━━━━━━━━━━━━━\u001b[0m\u001b[37m\u001b[0m \u001b[1m58s\u001b[0m 71ms/step - loss: 5.8464e-04 - val_loss: 0.0049\n",
      "Epoch 9/20\n",
      "\u001b[1m822/822\u001b[0m \u001b[32m━━━━━━━━━━━━━━━━━━━━\u001b[0m\u001b[37m\u001b[0m \u001b[1m82s\u001b[0m 70ms/step - loss: 5.8773e-04 - val_loss: 0.0038\n",
      "Epoch 10/20\n",
      "\u001b[1m822/822\u001b[0m \u001b[32m━━━━━━━━━━━━━━━━━━━━\u001b[0m\u001b[37m\u001b[0m \u001b[1m80s\u001b[0m 68ms/step - loss: 5.2481e-04 - val_loss: 0.0035\n",
      "Epoch 11/20\n",
      "\u001b[1m822/822\u001b[0m \u001b[32m━━━━━━━━━━━━━━━━━━━━\u001b[0m\u001b[37m\u001b[0m \u001b[1m55s\u001b[0m 67ms/step - loss: 5.4454e-04 - val_loss: 0.0043\n",
      "Epoch 12/20\n",
      "\u001b[1m822/822\u001b[0m \u001b[32m━━━━━━━━━━━━━━━━━━━━\u001b[0m\u001b[37m\u001b[0m \u001b[1m57s\u001b[0m 70ms/step - loss: 4.9109e-04 - val_loss: 0.0055\n",
      "Epoch 13/20\n",
      "\u001b[1m822/822\u001b[0m \u001b[32m━━━━━━━━━━━━━━━━━━━━\u001b[0m\u001b[37m\u001b[0m \u001b[1m80s\u001b[0m 67ms/step - loss: 4.5313e-04 - val_loss: 0.0057\n",
      "Epoch 14/20\n",
      "\u001b[1m822/822\u001b[0m \u001b[32m━━━━━━━━━━━━━━━━━━━━\u001b[0m\u001b[37m\u001b[0m \u001b[1m55s\u001b[0m 67ms/step - loss: 4.3080e-04 - val_loss: 0.0062\n",
      "Epoch 15/20\n",
      "\u001b[1m822/822\u001b[0m \u001b[32m━━━━━━━━━━━━━━━━━━━━\u001b[0m\u001b[37m\u001b[0m \u001b[1m55s\u001b[0m 67ms/step - loss: 4.0116e-04 - val_loss: 0.0076\n",
      "Epoch 16/20\n",
      "\u001b[1m822/822\u001b[0m \u001b[32m━━━━━━━━━━━━━━━━━━━━\u001b[0m\u001b[37m\u001b[0m \u001b[1m83s\u001b[0m 68ms/step - loss: 3.8760e-04 - val_loss: 0.0067\n",
      "Epoch 17/20\n",
      "\u001b[1m822/822\u001b[0m \u001b[32m━━━━━━━━━━━━━━━━━━━━\u001b[0m\u001b[37m\u001b[0m \u001b[1m83s\u001b[0m 69ms/step - loss: 3.8223e-04 - val_loss: 0.0070\n",
      "Epoch 18/20\n",
      "\u001b[1m822/822\u001b[0m \u001b[32m━━━━━━━━━━━━━━━━━━━━\u001b[0m\u001b[37m\u001b[0m \u001b[1m100s\u001b[0m 92ms/step - loss: 4.0278e-04 - val_loss: 0.0071\n",
      "Epoch 19/20\n",
      "\u001b[1m822/822\u001b[0m \u001b[32m━━━━━━━━━━━━━━━━━━━━\u001b[0m\u001b[37m\u001b[0m \u001b[1m57s\u001b[0m 69ms/step - loss: 3.5394e-04 - val_loss: 0.0071\n",
      "Epoch 20/20\n",
      "\u001b[1m822/822\u001b[0m \u001b[32m━━━━━━━━━━━━━━━━━━━━\u001b[0m\u001b[37m\u001b[0m \u001b[1m56s\u001b[0m 68ms/step - loss: 3.6716e-04 - val_loss: 0.0085\n"
     ]
    }
   ],
   "source": [
    "history = model.fit(x_train, y_train, epochs=20, batch_size=32, verbose=1, validation_data=(x_test, y_test))\n"
   ]
  },
  {
   "cell_type": "code",
   "execution_count": 44,
   "metadata": {},
   "outputs": [
    {
     "name": "stdout",
     "output_type": "stream",
     "text": [
      "\u001b[1m273/273\u001b[0m \u001b[32m━━━━━━━━━━━━━━━━━━━━\u001b[0m\u001b[37m\u001b[0m \u001b[1m7s\u001b[0m 24ms/step\n",
      "MAE: 3479.832035582213\n",
      "RMSE: 4115.333322480137\n",
      "MAPE: 8.058667425108634%\n",
      "R² Score: 0.7979717118556846\n"
     ]
    }
   ],
   "source": [
    "# Make predictions\n",
    "predictions_scaled = model.predict(x_test)\n",
    "from sklearn.metrics import mean_absolute_error, mean_squared_error, r2_score\n",
    "\n",
    "# Reshape before inverse transform\n",
    "predictions = scaler.inverse_transform(predictions_scaled.reshape(-1, 1))\n",
    "y_test_actual = scaler.inverse_transform(y_test.reshape(-1, 1))\n",
    "\n",
    "# Compute error metrics\n",
    "mae = mean_absolute_error(y_test_actual, predictions)\n",
    "rmse = np.sqrt(mean_squared_error(y_test_actual, predictions))\n",
    "mape = np.mean(np.abs((y_test_actual - predictions) / y_test_actual)) * 100\n",
    "r2 = r2_score(y_test_actual, predictions)\n",
    "\n",
    "print(f\"MAE: {mae}\")\n",
    "print(f\"RMSE: {rmse}\")\n",
    "print(f\"MAPE: {mape}%\")\n",
    "print(f\"R² Score: {r2}\")\n"
   ]
  },
  {
   "cell_type": "code",
   "execution_count": 45,
   "metadata": {},
   "outputs": [
    {
     "data": {
      "image/png": "[encoded data removed]",
      "text/plain": [
       "<Figure size 1200x600 with 1 Axes>"
      ]
     },
     "metadata": {},
     "output_type": "display_data"
    }
   ],
   "source": [
    "plt.figure(figsize=(12, 6))\n",
    "plt.plot(y_test_actual[:500], label='Actual', linewidth=2)\n",
    "plt.plot(predictions[:500], label='Predicted', linestyle='dashed')\n",
    "plt.legend()\n",
    "plt.title('Actual vs Predicted Load (ERCOT)')\n",
    "plt.xlabel('Time Steps')\n",
    "plt.ylabel('Load (MW)')\n",
    "plt.show()\n"
   ]
  },
  {
   "cell_type": "code",
   "execution_count": 46,
   "metadata": {},
   "outputs": [
    {
     "name": "stdout",
     "output_type": "stream",
     "text": [
      "R²: 0.7979717118556846\n"
     ]
    }
   ],
   "source": [
    "r2 = r2_score(y_test_actual, predictions)\n",
    "print(f\"R²: {r2}\")\n"
   ]
  },
  {
   "cell_type": "code",
   "execution_count": 47,
   "metadata": {},
   "outputs": [
    {
     "name": "stdout",
     "output_type": "stream",
     "text": [
      "MAPE: 8.058667425108634%\n"
     ]
    }
   ],
   "source": [
    "mape = np.mean(np.abs((y_test_actual - predictions) / y_test_actual)) * 100\n",
    "print(f\"MAPE: {mape}%\")\n"
   ]
  },
  {
   "cell_type": "code",
   "execution_count": 48,
   "metadata": {},
   "outputs": [
    {
     "name": "stdout",
     "output_type": "stream",
     "text": [
      "MAE: 3479.832035582213\n",
      "RMSE: 4115.333322480137\n"
     ]
    }
   ],
   "source": [
    "mae = mean_absolute_error(y_test_actual, predictions)\n",
    "rmse = np.sqrt(mean_squared_error(y_test_actual, predictions))\n",
    "print(f\"MAE: {mae}\")\n",
    "print(f\"RMSE: {rmse}\")\n"
   ]
  },
  {
   "cell_type": "code",
   "execution_count": 49,
   "metadata": {},
   "outputs": [
    {
     "name": "stdout",
     "output_type": "stream",
     "text": [
      "R²: 0.7979717118556846\n",
      "MAE: 3479.832035582213\n",
      "RMSE: 4115.333322480137\n",
      "MAPE: 8.058667425108634%\n"
     ]
    }
   ],
   "source": [
    "# Calculate metrics\n",
    "r2 = r2_score(y_test_actual, predictions)\n",
    "mae = mean_absolute_error(y_test_actual, predictions)\n",
    "rmse = np.sqrt(mean_squared_error(y_test_actual, predictions))\n",
    "mape = np.mean(np.abs((y_test_actual - predictions) / y_test_actual)) * 100\n",
    "\n",
    "# Print results\n",
    "print(f\"R²: {r2}\")\n",
    "print(f\"MAE: {mae}\")\n",
    "print(f\"RMSE: {rmse}\")\n",
    "print(f\"MAPE: {mape}%\")\n"
   ]
  },
  {
   "cell_type": "code",
   "execution_count": 50,
   "metadata": {},
   "outputs": [
    {
     "name": "stdout",
     "output_type": "stream",
     "text": [
      "Confusion Matrix:\n",
      "[[8736]]\n"
     ]
    },
    {
     "name": "stderr",
     "output_type": "stream",
     "text": [
      "d:\\1\\alpha\\lib\\site-packages\\sklearn\\metrics\\_classification.py:409: UserWarning: A single label was found in 'y_true' and 'y_pred'. For the confusion matrix to have the correct shape, use the 'labels' parameter to pass all known labels.\n",
      "  warnings.warn(\n"
     ]
    }
   ],
   "source": [
    "from sklearn.metrics import confusion_matrix\n",
    "\n",
    "# Example: Convert regression predictions to classification (e.g., binary classification)\n",
    "threshold = 1000  # Set a threshold for classification (e.g., high vs low load)\n",
    "y_test_class = (y_test_actual > threshold).astype(int)\n",
    "predictions_class = (predictions > threshold).astype(int)\n",
    "\n",
    "cm = confusion_matrix(y_test_class, predictions_class)\n",
    "print(\"Confusion Matrix:\")\n",
    "print(cm)\n"
   ]
  },
  {
   "cell_type": "code",
   "execution_count": 54,
   "metadata": {},
   "outputs": [
    {
     "data": {
      "text/plain": [
       "array([[8736]], dtype=int64)"
      ]
     },
     "execution_count": 54,
     "metadata": {},
     "output_type": "execute_result"
    }
   ],
   "source": [
    "cm\n"
   ]
  },
  {
   "cell_type": "code",
   "execution_count": 51,
   "metadata": {},
   "outputs": [
    {
     "name": "stdout",
     "output_type": "stream",
     "text": [
      "Precision: 1.0\n",
      "Recall: 1.0\n",
      "F1 Score: 1.0\n",
      "Accuracy: 1.0\n"
     ]
    }
   ],
   "source": [
    "from sklearn.metrics import precision_score, recall_score, f1_score, accuracy_score\n",
    "\n",
    "# Precision, Recall, F1 Score, and Accuracy for classification\n",
    "precision = precision_score(y_test_class, predictions_class)\n",
    "recall = recall_score(y_test_class, predictions_class)\n",
    "f1 = f1_score(y_test_class, predictions_class)\n",
    "accuracy = accuracy_score(y_test_class, predictions_class)\n",
    "\n",
    "print(f\"Precision: {precision}\")\n",
    "print(f\"Recall: {recall}\")\n",
    "print(f\"F1 Score: {f1}\")\n",
    "print(f\"Accuracy: {accuracy}\")\n"
   ]
  },
  {
   "cell_type": "code",
   "execution_count": null,
   "metadata": {},
   "outputs": [],
   "source": []
  }
 ],
 "metadata": {
  "kernelspec": {
   "display_name": "alpha",
   "language": "python",
   "name": "python3"
  },
  "language_info": {
   "codemirror_mode": {
    "name": "ipython",
    "version": 3
   },
   "file_extension": ".py",
   "mimetype": "text/x-python",
   "name": "python",
   "nbconvert_exporter": "python",
   "pygments_lexer": "ipython3",
   "version": "3.10.0"
  }
 },
 "nbformat": 4,
 "nbformat_minor": 2
}

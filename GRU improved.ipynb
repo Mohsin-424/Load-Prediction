{
 "cells": [
  {
   "cell_type": "code",
   "execution_count": 2,
   "metadata": {
    "colab": {
     "base_uri": "https://localhost:8080/"
    },
    "executionInfo": {
     "elapsed": 110643,
     "status": "ok",
     "timestamp": 1738280523815,
     "user": {
      "displayName": "Syed Qasir",
      "userId": "16884457284432526504"
     },
     "user_tz": -300
    },
    "id": "rD6qM0iNoX_K",
    "outputId": "fb81c4e5-87ef-4ee8-eee0-34afd218a6b4"
   },
   "outputs": [
    {
     "ename": "ModuleNotFoundError",
     "evalue": "No module named 'google.colab'",
     "output_type": "error",
     "traceback": [
      "\u001b[1;31m---------------------------------------------------------------------------\u001b[0m",
      "\u001b[1;31mModuleNotFoundError\u001b[0m                       Traceback (most recent call last)",
      "Cell \u001b[1;32mIn[2], line 1\u001b[0m\n\u001b[1;32m----> 1\u001b[0m \u001b[38;5;28;01mfrom\u001b[39;00m \u001b[38;5;21;01mgoogle\u001b[39;00m\u001b[38;5;21;01m.\u001b[39;00m\u001b[38;5;21;01mcolab\u001b[39;00m \u001b[38;5;28;01mimport\u001b[39;00m drive\n\u001b[0;32m      2\u001b[0m drive\u001b[38;5;241m.\u001b[39mmount(\u001b[38;5;124m'\u001b[39m\u001b[38;5;124m/content/drive\u001b[39m\u001b[38;5;124m'\u001b[39m)\n",
      "\u001b[1;31mModuleNotFoundError\u001b[0m: No module named 'google.colab'"
     ]
    }
   ],
   "source": [
    "from google.colab import drive\n",
    "drive.mount('/content/drive')\n"
   ]
  },
  {
   "cell_type": "code",
   "execution_count": 3,
   "metadata": {
    "colab": {
     "base_uri": "https://localhost:8080/"
    },
    "executionInfo": {
     "elapsed": 3213,
     "status": "ok",
     "timestamp": 1738280532634,
     "user": {
      "displayName": "Syed Qasir",
      "userId": "16884457284432526504"
     },
     "user_tz": -300
    },
    "id": "erhkYAdK_sEK",
    "outputId": "033885a8-5cae-4f9a-8f02-162ca67c6106"
   },
   "outputs": [
    {
     "name": "stdout",
     "output_type": "stream",
     "text": [
      "Collecting ace-tools\n",
      "  Downloading ace_tools-0.0-py3-none-any.whl (1.1 kB)\n",
      "Installing collected packages: ace-tools\n",
      "Successfully installed ace-tools-0.0\n"
     ]
    }
   ],
   "source": [
    "!pip install ace-tools"
   ]
  },
  {
   "cell_type": "code",
   "execution_count": 4,
   "metadata": {
    "colab": {
     "base_uri": "https://localhost:8080/"
    },
    "executionInfo": {
     "elapsed": 5869,
     "status": "ok",
     "timestamp": 1738280542087,
     "user": {
      "displayName": "Syed Qasir",
      "userId": "16884457284432526504"
     },
     "user_tz": -300
    },
    "id": "Y7Y7CB-Jg4ds",
    "outputId": "00c1606b-19e5-4ebb-f078-f5f875102c27"
   },
   "outputs": [
    {
     "name": "stdout",
     "output_type": "stream",
     "text": [
      "Collecting keras-tuner\n",
      "  Downloading keras_tuner-1.4.7-py3-none-any.whl (129 kB)\n",
      "Collecting kt-legacy\n",
      "  Downloading kt_legacy-1.0.5-py3-none-any.whl (9.6 kB)\n",
      "Requirement already satisfied: keras in d:\\1\\alpha\\lib\\site-packages (from keras-tuner) (3.7.0)\n",
      "Requirement already satisfied: requests in d:\\1\\alpha\\lib\\site-packages (from keras-tuner) (2.32.3)\n",
      "Requirement already satisfied: packaging in d:\\1\\alpha\\lib\\site-packages (from keras-tuner) (24.2)\n",
      "Requirement already satisfied: optree in d:\\1\\alpha\\lib\\site-packages (from keras->keras-tuner) (0.13.1)\n",
      "Requirement already satisfied: rich in d:\\1\\alpha\\lib\\site-packages (from keras->keras-tuner) (13.9.4)\n",
      "Requirement already satisfied: numpy in d:\\1\\alpha\\lib\\site-packages (from keras->keras-tuner) (1.26.3)\n",
      "Requirement already satisfied: ml-dtypes in d:\\1\\alpha\\lib\\site-packages (from keras->keras-tuner) (0.4.1)\n",
      "Requirement already satisfied: namex in d:\\1\\alpha\\lib\\site-packages (from keras->keras-tuner) (0.0.8)\n",
      "Requirement already satisfied: absl-py in d:\\1\\alpha\\lib\\site-packages (from keras->keras-tuner) (2.1.0)\n",
      "Requirement already satisfied: h5py in d:\\1\\alpha\\lib\\site-packages (from keras->keras-tuner) (3.12.1)\n",
      "Requirement already satisfied: typing-extensions>=4.5.0 in d:\\1\\alpha\\lib\\site-packages (from optree->keras->keras-tuner) (4.12.2)\n",
      "Requirement already satisfied: charset-normalizer<4,>=2 in d:\\1\\alpha\\lib\\site-packages (from requests->keras-tuner) (3.4.0)\n",
      "Requirement already satisfied: idna<4,>=2.5 in d:\\1\\alpha\\lib\\site-packages (from requests->keras-tuner) (3.10)\n",
      "Requirement already satisfied: urllib3<3,>=1.21.1 in d:\\1\\alpha\\lib\\site-packages (from requests->keras-tuner) (2.2.3)\n",
      "Requirement already satisfied: certifi>=2017.4.17 in d:\\1\\alpha\\lib\\site-packages (from requests->keras-tuner) (2024.8.30)\n",
      "Requirement already satisfied: markdown-it-py>=2.2.0 in d:\\1\\alpha\\lib\\site-packages (from rich->keras->keras-tuner) (3.0.0)\n",
      "Requirement already satisfied: pygments<3.0.0,>=2.13.0 in d:\\1\\alpha\\lib\\site-packages (from rich->keras->keras-tuner) (2.18.0)\n",
      "Requirement already satisfied: mdurl~=0.1 in d:\\1\\alpha\\lib\\site-packages (from markdown-it-py>=2.2.0->rich->keras->keras-tuner) (0.1.2)\n",
      "Installing collected packages: kt-legacy, keras-tuner\n"
     ]
    },
    {
     "name": "stderr",
     "output_type": "stream",
     "text": [
      "ERROR: Could not install packages due to an OSError: [WinError 5] Access is denied: 'D:\\\\1\\\\alpha\\\\Lib\\\\site-packages\\\\keras_tuner-1.4.7.dist-info\\\\RECORD3fttkv0k.tmp' -> 'D:\\\\1\\\\alpha\\\\Lib\\\\site-packages\\\\keras_tuner-1.4.7.dist-info\\\\RECORD'\n",
      "Check the permissions.\n",
      "\n"
     ]
    }
   ],
   "source": [
    "\n",
    "!pip install keras-tuner"
   ]
  },
  {
   "cell_type": "code",
   "execution_count": 5,
   "metadata": {
    "colab": {
     "base_uri": "https://localhost:8080/"
    },
    "executionInfo": {
     "elapsed": 5420,
     "status": "ok",
     "timestamp": 1738280551022,
     "user": {
      "displayName": "Syed Qasir",
      "userId": "16884457284432526504"
     },
     "user_tz": -300
    },
    "id": "1vOOg0lD2nxh",
    "outputId": "f605e980-00bb-4806-eafa-c4efa18c4554"
   },
   "outputs": [
    {
     "name": "stdout",
     "output_type": "stream",
     "text": [
      "Requirement already satisfied: pmdarima in d:\\1\\alpha\\lib\\site-packages (2.0.4)\n",
      "Requirement already satisfied: packaging>=17.1 in d:\\1\\alpha\\lib\\site-packages (from pmdarima) (24.2)\n",
      "Requirement already satisfied: numpy>=1.21.2 in d:\\1\\alpha\\lib\\site-packages (from pmdarima) (1.26.3)\n",
      "Requirement already satisfied: joblib>=0.11 in d:\\1\\alpha\\lib\\site-packages (from pmdarima) (1.4.2)\n",
      "Requirement already satisfied: urllib3 in d:\\1\\alpha\\lib\\site-packages (from pmdarima) (2.2.3)\n",
      "Requirement already satisfied: scikit-learn>=0.22 in d:\\1\\alpha\\lib\\site-packages (from pmdarima) (1.5.2)\n",
      "Requirement already satisfied: pandas>=0.19 in d:\\1\\alpha\\lib\\site-packages (from pmdarima) (2.2.3)\n",
      "Requirement already satisfied: Cython!=0.29.18,!=0.29.31,>=0.29 in d:\\1\\alpha\\lib\\site-packages (from pmdarima) (3.0.11)\n",
      "Requirement already satisfied: statsmodels>=0.13.2 in d:\\1\\alpha\\lib\\site-packages (from pmdarima) (0.14.4)\n",
      "Requirement already satisfied: setuptools!=50.0.0,>=38.6.0 in d:\\1\\alpha\\lib\\site-packages (from pmdarima) (57.4.0)\n",
      "Requirement already satisfied: scipy>=1.3.2 in d:\\1\\alpha\\lib\\site-packages (from pmdarima) (1.14.1)\n",
      "Requirement already satisfied: tzdata>=2022.7 in d:\\1\\alpha\\lib\\site-packages (from pandas>=0.19->pmdarima) (2024.2)\n",
      "Requirement already satisfied: pytz>=2020.1 in d:\\1\\alpha\\lib\\site-packages (from pandas>=0.19->pmdarima) (2024.2)\n",
      "Requirement already satisfied: python-dateutil>=2.8.2 in d:\\1\\alpha\\lib\\site-packages (from pandas>=0.19->pmdarima) (2.9.0.post0)\n",
      "Requirement already satisfied: six>=1.5 in d:\\1\\alpha\\lib\\site-packages (from python-dateutil>=2.8.2->pandas>=0.19->pmdarima) (1.17.0)\n",
      "Requirement already satisfied: threadpoolctl>=3.1.0 in d:\\1\\alpha\\lib\\site-packages (from scikit-learn>=0.22->pmdarima) (3.5.0)\n",
      "Requirement already satisfied: patsy>=0.5.6 in d:\\1\\alpha\\lib\\site-packages (from statsmodels>=0.13.2->pmdarima) (1.0.1)\n"
     ]
    }
   ],
   "source": [
    "!pip install pmdarima"
   ]
  },
  {
   "cell_type": "code",
   "execution_count": 5,
   "metadata": {
    "executionInfo": {
     "elapsed": 8766,
     "status": "ok",
     "timestamp": 1738280561924,
     "user": {
      "displayName": "Syed Qasir",
      "userId": "16884457284432526504"
     },
     "user_tz": -300
    },
    "id": "IgRv6JvxfCuX"
   },
   "outputs": [],
   "source": [
    "import numpy as np\n",
    "import pandas as pd\n",
    "import tensorflow as tf\n",
    "from tensorflow.keras.models import Sequential\n",
    "from tensorflow.keras.layers import GRU, Dense, Dropout, BatchNormalization, Input, LeakyReLU\n",
    "from tensorflow.keras.optimizers import Adam\n",
    "from tensorflow.keras.losses import Huber\n",
    "from sklearn.preprocessing import StandardScaler, MinMaxScaler\n",
    "from sklearn.metrics import mean_absolute_error, mean_squared_error, r2_score\n",
    "import matplotlib.pyplot as plt\n",
    "import seaborn as sns\n",
    "import keras_tuner as kt\n"
   ]
  },
  {
   "cell_type": "code",
   "execution_count": 6,
   "metadata": {
    "colab": {
     "base_uri": "https://localhost:8080/"
    },
    "executionInfo": {
     "elapsed": 19694,
     "status": "ok",
     "timestamp": 1738280584190,
     "user": {
      "displayName": "Syed Qasir",
      "userId": "16884457284432526504"
     },
     "user_tz": -300
    },
    "id": "zEQ4bnzxrkxf",
    "outputId": "b95ef6d7-081d-4ada-a0c1-34ee8d61c74f"
   },
   "outputs": [
    {
     "name": "stdout",
     "output_type": "stream",
     "text": [
      "✅ Data successfully merged!\n"
     ]
    }
   ],
   "source": [
    "# ✅ Load ERCOT energy demand data\n",
    "ercot_data = pd.read_excel(\"/content/drive/MyDrive/Bushrasa project/DataSet/LoadTexasERCOT.xlsx\", engine=\"openpyxl\")\n",
    "\n",
    "# ✅ Convert datetime column automatically\n",
    "ercot_data[\"Hour_End\"] = pd.to_datetime(ercot_data[\"Hour_End\"], errors='coerce')\n",
    "\n",
    "# ✅ Set datetime as index\n",
    "ercot_data.set_index(\"Hour_End\", inplace=True)\n",
    "\n",
    "# ✅ Load & Process Weather Data\n",
    "def load_weather_data(file_path):\n",
    "    df = pd.read_excel(file_path, engine=\"openpyxl\")\n",
    "    df[\"Timestamp\"] = pd.to_datetime(df[[\"Year\", \"Month\", \"Day\", \"Hour\", \"Minute\"]])\n",
    "    df.set_index(\"Timestamp\", inplace=True)\n",
    "    df.drop(columns=[\"Year\", \"Month\", \"Day\", \"Hour\", \"Minute\"], inplace=True)\n",
    "    return df\n",
    "\n",
    "weather1 = load_weather_data(\"/content/drive/MyDrive/Bushrasa project/DataSet/WeatherStation1.xlsx\")\n",
    "weather2 = load_weather_data(\"/content/drive/MyDrive/Bushrasa project/DataSet/WeatherStation2.xlsx\")\n",
    "weather3 = load_weather_data(\"/content/drive/MyDrive/Bushrasa project/DataSet/WeatherStation3.xlsx\")\n",
    "\n",
    "# ✅ Merge Weather Data (Averaging)\n",
    "weather_data = pd.concat([weather1, weather2, weather3]).groupby(\"Timestamp\").mean()\n",
    "\n",
    "# ✅ Align Data Timestamps\n",
    "ercot_data.index = ercot_data.index.floor('h')\n",
    "weather_data.index = weather_data.index.floor('h')\n",
    "\n",
    "# ✅ Ensure Matching Time Ranges\n",
    "common_start = max(ercot_data.index.min(), weather_data.index.min())\n",
    "common_end = min(ercot_data.index.max(), weather_data.index.max())\n",
    "ercot_data = ercot_data[(ercot_data.index >= common_start) & (ercot_data.index <= common_end)]\n",
    "weather_data = weather_data[(weather_data.index >= common_start) & (weather_data.index <= common_end)]\n",
    "\n",
    "# ✅ Merge Data\n",
    "merged_data = ercot_data.merge(weather_data, left_index=True, right_index=True, how=\"inner\")\n",
    "print(\"✅ Data successfully merged!\")\n"
   ]
  },
  {
   "cell_type": "code",
   "execution_count": 7,
   "metadata": {
    "colab": {
     "base_uri": "https://localhost:8080/",
     "height": 310
    },
    "executionInfo": {
     "elapsed": 446,
     "status": "ok",
     "timestamp": 1738280586292,
     "user": {
      "displayName": "Syed Qasir",
      "userId": "16884457284432526504"
     },
     "user_tz": -300
    },
    "id": "QG-iLVT4sTWr",
    "outputId": "2e35c2b2-c48e-4c58-d7a2-736199e98d29"
   },
   "outputs": [
    {
     "data": {
      "application/vnd.google.colaboratory.intrinsic+json": {
       "summary": "{\n  \"name\": \"merged_data\",\n  \"rows\": 35063,\n  \"fields\": [\n    {\n      \"column\": \"COAST\",\n      \"properties\": {\n        \"dtype\": \"number\",\n        \"std\": 2510.5828100999443,\n        \"min\": 6456.957893472955,\n        \"max\": 19928.724765915234,\n        \"num_unique_values\": 35063,\n        \"samples\": [\n          9940.505600000002,\n          9825.569032531263,\n          9882.591065579267\n        ],\n        \"semantic_type\": \"\",\n        \"description\": \"\"\n      }\n    },\n    {\n      \"column\": \"EAST\",\n      \"properties\": {\n        \"dtype\": \"number\",\n        \"std\": 320.3088173425496,\n        \"min\": 762.2781101105048,\n        \"max\": 2463.9556354713977,\n        \"num_unique_values\": 35063,\n        \"samples\": [\n          1197.14748,\n          1155.266882894117,\n          1365.690266081697\n        ],\n        \"semantic_type\": \"\",\n        \"description\": \"\"\n      }\n    },\n    {\n      \"column\": \"FAR_WEST\",\n      \"properties\": {\n        \"dtype\": \"number\",\n        \"std\": 309.871869359211,\n        \"min\": 1133.6701040106063,\n        \"max\": 2811.84068027445,\n        \"num_unique_values\": 35063,\n        \"samples\": [\n          1413.2722299999998,\n          1923.85375851749,\n          1711.5373814458144\n        ],\n        \"semantic_type\": \"\",\n        \"description\": \"\"\n      }\n    },\n    {\n      \"column\": \"NORTH\",\n      \"properties\": {\n        \"dtype\": \"number\",\n        \"std\": 176.58854586655355,\n        \"min\": 508.67187521853504,\n        \"max\": 1559.0796747465313,\n        \"num_unique_values\": 35063,\n        \"samples\": [\n          747.8778899999999,\n          719.5522435282669,\n          851.7575442521705\n        ],\n        \"semantic_type\": \"\",\n        \"description\": \"\"\n      }\n    },\n    {\n      \"column\": \"NORTH_C\",\n      \"properties\": {\n        \"dtype\": \"number\",\n        \"std\": 3430.1652039711635,\n        \"min\": 7124.339935972364,\n        \"max\": 24747.94266784752,\n        \"num_unique_values\": 35063,\n        \"samples\": [\n          10983.7918,\n          10850.974673191597,\n          12891.763939456117\n        ],\n        \"semantic_type\": \"\",\n        \"description\": \"\"\n      }\n    },\n    {\n      \"column\": \"SOUTHERN\",\n      \"properties\": {\n        \"dtype\": \"number\",\n        \"std\": 771.8706619373629,\n        \"min\": 1665.9829376813723,\n        \"max\": 5455.452760802712,\n        \"num_unique_values\": 35063,\n        \"samples\": [\n          3001.8504000000007,\n          2853.2248603429794,\n          3502.37687569864\n        ],\n        \"semantic_type\": \"\",\n        \"description\": \"\"\n      }\n    },\n    {\n      \"column\": \"SOUTH_C\",\n      \"properties\": {\n        \"dtype\": \"number\",\n        \"std\": 1668.960644344416,\n        \"min\": 3525.264327022895,\n        \"max\": 12032.553182490556,\n        \"num_unique_values\": 35063,\n        \"samples\": [\n          5528.51539,\n          5416.343624149194,\n          6901.750185758172\n        ],\n        \"semantic_type\": \"\",\n        \"description\": \"\"\n      }\n    },\n    {\n      \"column\": \"WEST\",\n      \"properties\": {\n        \"dtype\": \"number\",\n        \"std\": 230.11878365557152,\n        \"min\": 631.8037017635461,\n        \"max\": 1883.8890167316167,\n        \"num_unique_values\": 35063,\n        \"samples\": [\n          966.9536500000002,\n          1063.5948628093888,\n          1203.6844567281175\n        ],\n        \"semantic_type\": \"\",\n        \"description\": \"\"\n      }\n    },\n    {\n      \"column\": \"ERCOT\",\n      \"properties\": {\n        \"dtype\": \"number\",\n        \"std\": 9017.568398796688,\n        \"min\": 22528.26447399998,\n        \"max\": 69620.40761393859,\n        \"num_unique_values\": 35063,\n        \"samples\": [\n          33779.91444,\n          33808.37993796429,\n          38311.151715\n        ],\n        \"semantic_type\": \"\",\n        \"description\": \"\"\n      }\n    },\n    {\n      \"column\": \"Relative Humidity\",\n      \"properties\": {\n        \"dtype\": \"number\",\n        \"std\": 23.198134827286914,\n        \"min\": 8.453333333333333,\n        \"max\": 100.0,\n        \"num_unique_values\": 15607,\n        \"samples\": [\n          32.32,\n          91.80333333333333,\n          88.87\n        ],\n        \"semantic_type\": \"\",\n        \"description\": \"\"\n      }\n    },\n    {\n      \"column\": \"Temperature\",\n      \"properties\": {\n        \"dtype\": \"number\",\n        \"std\": 9.927740370436416,\n        \"min\": -7.666666666666667,\n        \"max\": 41.333333333333336,\n        \"num_unique_values\": 147,\n        \"samples\": [\n          39.666666666666664,\n          5.666666666666667,\n          -4.333333333333333\n        ],\n        \"semantic_type\": \"\",\n        \"description\": \"\"\n      }\n    },\n    {\n      \"column\": \"Pressure\",\n      \"properties\": {\n        \"dtype\": \"number\",\n        \"std\": 5.60035476826616,\n        \"min\": 930.0,\n        \"max\": 973.3333333333334,\n        \"num_unique_values\": 14,\n        \"samples\": [\n          933.3333333333334,\n          930.0,\n          953.3333333333334\n        ],\n        \"semantic_type\": \"\",\n        \"description\": \"\"\n      }\n    }\n  ]\n}",
       "type": "dataframe",
       "variable_name": "merged_data"
      },
      "text/html": [
       "\n",
       "  <div id=\"df-c0726ee2-7038-4051-9e92-3853a8e9b239\" class=\"colab-df-container\">\n",
       "    <div>\n",
       "<style scoped>\n",
       "    .dataframe tbody tr th:only-of-type {\n",
       "        vertical-align: middle;\n",
       "    }\n",
       "\n",
       "    .dataframe tbody tr th {\n",
       "        vertical-align: top;\n",
       "    }\n",
       "\n",
       "    .dataframe thead th {\n",
       "        text-align: right;\n",
       "    }\n",
       "</style>\n",
       "<table border=\"1\" class=\"dataframe\">\n",
       "  <thead>\n",
       "    <tr style=\"text-align: right;\">\n",
       "      <th></th>\n",
       "      <th>COAST</th>\n",
       "      <th>EAST</th>\n",
       "      <th>FAR_WEST</th>\n",
       "      <th>NORTH</th>\n",
       "      <th>NORTH_C</th>\n",
       "      <th>SOUTHERN</th>\n",
       "      <th>SOUTH_C</th>\n",
       "      <th>WEST</th>\n",
       "      <th>ERCOT</th>\n",
       "      <th>Relative Humidity</th>\n",
       "      <th>Temperature</th>\n",
       "      <th>Pressure</th>\n",
       "    </tr>\n",
       "  </thead>\n",
       "  <tbody>\n",
       "    <tr>\n",
       "      <th>2012-01-01 01:00:00</th>\n",
       "      <td>7748.160500</td>\n",
       "      <td>878.438488</td>\n",
       "      <td>1289.746813</td>\n",
       "      <td>652.153054</td>\n",
       "      <td>8648.989316</td>\n",
       "      <td>2105.379142</td>\n",
       "      <td>4162.162310</td>\n",
       "      <td>849.000892</td>\n",
       "      <td>26334.030515</td>\n",
       "      <td>50.063333</td>\n",
       "      <td>5.333333</td>\n",
       "      <td>953.333333</td>\n",
       "    </tr>\n",
       "    <tr>\n",
       "      <th>2012-01-01 01:00:00</th>\n",
       "      <td>7559.728089</td>\n",
       "      <td>839.092904</td>\n",
       "      <td>1294.272245</td>\n",
       "      <td>643.483530</td>\n",
       "      <td>8553.212708</td>\n",
       "      <td>2047.755534</td>\n",
       "      <td>4070.416593</td>\n",
       "      <td>845.097363</td>\n",
       "      <td>25853.058967</td>\n",
       "      <td>50.063333</td>\n",
       "      <td>5.333333</td>\n",
       "      <td>953.333333</td>\n",
       "    </tr>\n",
       "    <tr>\n",
       "      <th>2012-01-01 03:00:00</th>\n",
       "      <td>7337.789042</td>\n",
       "      <td>817.995707</td>\n",
       "      <td>1296.491345</td>\n",
       "      <td>631.940923</td>\n",
       "      <td>8461.317967</td>\n",
       "      <td>1961.909818</td>\n",
       "      <td>3946.994332</td>\n",
       "      <td>840.902848</td>\n",
       "      <td>25295.341984</td>\n",
       "      <td>62.153333</td>\n",
       "      <td>2.333333</td>\n",
       "      <td>960.000000</td>\n",
       "    </tr>\n",
       "    <tr>\n",
       "      <th>2012-01-01 04:00:00</th>\n",
       "      <td>7161.895539</td>\n",
       "      <td>814.967883</td>\n",
       "      <td>1297.417294</td>\n",
       "      <td>631.428520</td>\n",
       "      <td>8438.693857</td>\n",
       "      <td>1893.148232</td>\n",
       "      <td>3884.929253</td>\n",
       "      <td>845.452257</td>\n",
       "      <td>24967.932835</td>\n",
       "      <td>69.886667</td>\n",
       "      <td>2.000000</td>\n",
       "      <td>963.333333</td>\n",
       "    </tr>\n",
       "    <tr>\n",
       "      <th>2012-01-01 04:00:00</th>\n",
       "      <td>6984.460743</td>\n",
       "      <td>843.952579</td>\n",
       "      <td>1309.534911</td>\n",
       "      <td>640.892563</td>\n",
       "      <td>8565.433348</td>\n",
       "      <td>1867.358425</td>\n",
       "      <td>3911.610238</td>\n",
       "      <td>862.369386</td>\n",
       "      <td>24985.612193</td>\n",
       "      <td>69.886667</td>\n",
       "      <td>2.000000</td>\n",
       "      <td>963.333333</td>\n",
       "    </tr>\n",
       "  </tbody>\n",
       "</table>\n",
       "</div>\n",
       "    <div class=\"colab-df-buttons\">\n",
       "\n",
       "  <div class=\"colab-df-container\">\n",
       "    <button class=\"colab-df-convert\" onclick=\"convertToInteractive('df-c0726ee2-7038-4051-9e92-3853a8e9b239')\"\n",
       "            title=\"Convert this dataframe to an interactive table.\"\n",
       "            style=\"display:none;\">\n",
       "\n",
       "  <svg xmlns=\"http://www.w3.org/2000/svg\" height=\"24px\" viewBox=\"0 -960 960 960\">\n",
       "    <path d=\"M120-120v-720h720v720H120Zm60-500h600v-160H180v160Zm220 220h160v-160H400v160Zm0 220h160v-160H400v160ZM180-400h160v-160H180v160Zm440 0h160v-160H620v160ZM180-180h160v-160H180v160Zm440 0h160v-160H620v160Z\"/>\n",
       "  </svg>\n",
       "    </button>\n",
       "\n",
       "  <style>\n",
       "    .colab-df-container {\n",
       "      display:flex;\n",
       "      gap: 12px;\n",
       "    }\n",
       "\n",
       "    .colab-df-convert {\n",
       "      background-color: #E8F0FE;\n",
       "      border: none;\n",
       "      border-radius: 50%;\n",
       "      cursor: pointer;\n",
       "      display: none;\n",
       "      fill: #1967D2;\n",
       "      height: 32px;\n",
       "      padding: 0 0 0 0;\n",
       "      width: 32px;\n",
       "    }\n",
       "\n",
       "    .colab-df-convert:hover {\n",
       "      background-color: #E2EBFA;\n",
       "      box-shadow: 0px 1px 2px rgba(60, 64, 67, 0.3), 0px 1px 3px 1px rgba(60, 64, 67, 0.15);\n",
       "      fill: #174EA6;\n",
       "    }\n",
       "\n",
       "    .colab-df-buttons div {\n",
       "      margin-bottom: 4px;\n",
       "    }\n",
       "\n",
       "    [theme=dark] .colab-df-convert {\n",
       "      background-color: #3B4455;\n",
       "      fill: #D2E3FC;\n",
       "    }\n",
       "\n",
       "    [theme=dark] .colab-df-convert:hover {\n",
       "      background-color: #434B5C;\n",
       "      box-shadow: 0px 1px 3px 1px rgba(0, 0, 0, 0.15);\n",
       "      filter: drop-shadow(0px 1px 2px rgba(0, 0, 0, 0.3));\n",
       "      fill: #FFFFFF;\n",
       "    }\n",
       "  </style>\n",
       "\n",
       "    <script>\n",
       "      const buttonEl =\n",
       "        document.querySelector('#df-c0726ee2-7038-4051-9e92-3853a8e9b239 button.colab-df-convert');\n",
       "      buttonEl.style.display =\n",
       "        google.colab.kernel.accessAllowed ? 'block' : 'none';\n",
       "\n",
       "      async function convertToInteractive(key) {\n",
       "        const element = document.querySelector('#df-c0726ee2-7038-4051-9e92-3853a8e9b239');\n",
       "        const dataTable =\n",
       "          await google.colab.kernel.invokeFunction('convertToInteractive',\n",
       "                                                    [key], {});\n",
       "        if (!dataTable) return;\n",
       "\n",
       "        const docLinkHtml = 'Like what you see? Visit the ' +\n",
       "          '<a target=\"_blank\" href=https://colab.research.google.com/notebooks/data_table.ipynb>data table notebook</a>'\n",
       "          + ' to learn more about interactive tables.';\n",
       "        element.innerHTML = '';\n",
       "        dataTable['output_type'] = 'display_data';\n",
       "        await google.colab.output.renderOutput(dataTable, element);\n",
       "        const docLink = document.createElement('div');\n",
       "        docLink.innerHTML = docLinkHtml;\n",
       "        element.appendChild(docLink);\n",
       "      }\n",
       "    </script>\n",
       "  </div>\n",
       "\n",
       "\n",
       "<div id=\"df-8766051e-dd6d-40a6-a153-ce03a581e786\">\n",
       "  <button class=\"colab-df-quickchart\" onclick=\"quickchart('df-8766051e-dd6d-40a6-a153-ce03a581e786')\"\n",
       "            title=\"Suggest charts\"\n",
       "            style=\"display:none;\">\n",
       "\n",
       "<svg xmlns=\"http://www.w3.org/2000/svg\" height=\"24px\"viewBox=\"0 0 24 24\"\n",
       "     width=\"24px\">\n",
       "    <g>\n",
       "        <path d=\"M19 3H5c-1.1 0-2 .9-2 2v14c0 1.1.9 2 2 2h14c1.1 0 2-.9 2-2V5c0-1.1-.9-2-2-2zM9 17H7v-7h2v7zm4 0h-2V7h2v10zm4 0h-2v-4h2v4z\"/>\n",
       "    </g>\n",
       "</svg>\n",
       "  </button>\n",
       "\n",
       "<style>\n",
       "  .colab-df-quickchart {\n",
       "      --bg-color: #E8F0FE;\n",
       "      --fill-color: #1967D2;\n",
       "      --hover-bg-color: #E2EBFA;\n",
       "      --hover-fill-color: #174EA6;\n",
       "      --disabled-fill-color: #AAA;\n",
       "      --disabled-bg-color: #DDD;\n",
       "  }\n",
       "\n",
       "  [theme=dark] .colab-df-quickchart {\n",
       "      --bg-color: #3B4455;\n",
       "      --fill-color: #D2E3FC;\n",
       "      --hover-bg-color: #434B5C;\n",
       "      --hover-fill-color: #FFFFFF;\n",
       "      --disabled-bg-color: #3B4455;\n",
       "      --disabled-fill-color: #666;\n",
       "  }\n",
       "\n",
       "  .colab-df-quickchart {\n",
       "    background-color: var(--bg-color);\n",
       "    border: none;\n",
       "    border-radius: 50%;\n",
       "    cursor: pointer;\n",
       "    display: none;\n",
       "    fill: var(--fill-color);\n",
       "    height: 32px;\n",
       "    padding: 0;\n",
       "    width: 32px;\n",
       "  }\n",
       "\n",
       "  .colab-df-quickchart:hover {\n",
       "    background-color: var(--hover-bg-color);\n",
       "    box-shadow: 0 1px 2px rgba(60, 64, 67, 0.3), 0 1px 3px 1px rgba(60, 64, 67, 0.15);\n",
       "    fill: var(--button-hover-fill-color);\n",
       "  }\n",
       "\n",
       "  .colab-df-quickchart-complete:disabled,\n",
       "  .colab-df-quickchart-complete:disabled:hover {\n",
       "    background-color: var(--disabled-bg-color);\n",
       "    fill: var(--disabled-fill-color);\n",
       "    box-shadow: none;\n",
       "  }\n",
       "\n",
       "  .colab-df-spinner {\n",
       "    border: 2px solid var(--fill-color);\n",
       "    border-color: transparent;\n",
       "    border-bottom-color: var(--fill-color);\n",
       "    animation:\n",
       "      spin 1s steps(1) infinite;\n",
       "  }\n",
       "\n",
       "  @keyframes spin {\n",
       "    0% {\n",
       "      border-color: transparent;\n",
       "      border-bottom-color: var(--fill-color);\n",
       "      border-left-color: var(--fill-color);\n",
       "    }\n",
       "    20% {\n",
       "      border-color: transparent;\n",
       "      border-left-color: var(--fill-color);\n",
       "      border-top-color: var(--fill-color);\n",
       "    }\n",
       "    30% {\n",
       "      border-color: transparent;\n",
       "      border-left-color: var(--fill-color);\n",
       "      border-top-color: var(--fill-color);\n",
       "      border-right-color: var(--fill-color);\n",
       "    }\n",
       "    40% {\n",
       "      border-color: transparent;\n",
       "      border-right-color: var(--fill-color);\n",
       "      border-top-color: var(--fill-color);\n",
       "    }\n",
       "    60% {\n",
       "      border-color: transparent;\n",
       "      border-right-color: var(--fill-color);\n",
       "    }\n",
       "    80% {\n",
       "      border-color: transparent;\n",
       "      border-right-color: var(--fill-color);\n",
       "      border-bottom-color: var(--fill-color);\n",
       "    }\n",
       "    90% {\n",
       "      border-color: transparent;\n",
       "      border-bottom-color: var(--fill-color);\n",
       "    }\n",
       "  }\n",
       "</style>\n",
       "\n",
       "  <script>\n",
       "    async function quickchart(key) {\n",
       "      const quickchartButtonEl =\n",
       "        document.querySelector('#' + key + ' button');\n",
       "      quickchartButtonEl.disabled = true;  // To prevent multiple clicks.\n",
       "      quickchartButtonEl.classList.add('colab-df-spinner');\n",
       "      try {\n",
       "        const charts = await google.colab.kernel.invokeFunction(\n",
       "            'suggestCharts', [key], {});\n",
       "      } catch (error) {\n",
       "        console.error('Error during call to suggestCharts:', error);\n",
       "      }\n",
       "      quickchartButtonEl.classList.remove('colab-df-spinner');\n",
       "      quickchartButtonEl.classList.add('colab-df-quickchart-complete');\n",
       "    }\n",
       "    (() => {\n",
       "      let quickchartButtonEl =\n",
       "        document.querySelector('#df-8766051e-dd6d-40a6-a153-ce03a581e786 button');\n",
       "      quickchartButtonEl.style.display =\n",
       "        google.colab.kernel.accessAllowed ? 'block' : 'none';\n",
       "    })();\n",
       "  </script>\n",
       "</div>\n",
       "\n",
       "    </div>\n",
       "  </div>\n"
      ],
      "text/plain": [
       "                           COAST        EAST     FAR_WEST       NORTH  \\\n",
       "2012-01-01 01:00:00  7748.160500  878.438488  1289.746813  652.153054   \n",
       "2012-01-01 01:00:00  7559.728089  839.092904  1294.272245  643.483530   \n",
       "2012-01-01 03:00:00  7337.789042  817.995707  1296.491345  631.940923   \n",
       "2012-01-01 04:00:00  7161.895539  814.967883  1297.417294  631.428520   \n",
       "2012-01-01 04:00:00  6984.460743  843.952579  1309.534911  640.892563   \n",
       "\n",
       "                         NORTH_C     SOUTHERN      SOUTH_C        WEST  \\\n",
       "2012-01-01 01:00:00  8648.989316  2105.379142  4162.162310  849.000892   \n",
       "2012-01-01 01:00:00  8553.212708  2047.755534  4070.416593  845.097363   \n",
       "2012-01-01 03:00:00  8461.317967  1961.909818  3946.994332  840.902848   \n",
       "2012-01-01 04:00:00  8438.693857  1893.148232  3884.929253  845.452257   \n",
       "2012-01-01 04:00:00  8565.433348  1867.358425  3911.610238  862.369386   \n",
       "\n",
       "                            ERCOT  Relative Humidity  Temperature    Pressure  \n",
       "2012-01-01 01:00:00  26334.030515          50.063333     5.333333  953.333333  \n",
       "2012-01-01 01:00:00  25853.058967          50.063333     5.333333  953.333333  \n",
       "2012-01-01 03:00:00  25295.341984          62.153333     2.333333  960.000000  \n",
       "2012-01-01 04:00:00  24967.932835          69.886667     2.000000  963.333333  \n",
       "2012-01-01 04:00:00  24985.612193          69.886667     2.000000  963.333333  "
      ]
     },
     "execution_count": 7,
     "metadata": {},
     "output_type": "execute_result"
    }
   ],
   "source": [
    "merged_data.head()\n"
   ]
  },
  {
   "cell_type": "code",
   "execution_count": 8,
   "metadata": {
    "executionInfo": {
     "elapsed": 394,
     "status": "ok",
     "timestamp": 1738280588396,
     "user": {
      "displayName": "Syed Qasir",
      "userId": "16884457284432526504"
     },
     "user_tz": -300
    },
    "id": "50dE71u0tMTa"
   },
   "outputs": [],
   "source": [
    "# ✅ Ensure Date Features Exist\n",
    "merged_data[\"Hour\"] = merged_data.index.hour\n",
    "merged_data[\"Day\"] = merged_data.index.day\n",
    "merged_data[\"Month\"] = merged_data.index.month\n"
   ]
  },
  {
   "cell_type": "code",
   "execution_count": 9,
   "metadata": {
    "colab": {
     "base_uri": "https://localhost:8080/"
    },
    "executionInfo": {
     "elapsed": 380,
     "status": "ok",
     "timestamp": 1738280590294,
     "user": {
      "displayName": "Syed Qasir",
      "userId": "16884457284432526504"
     },
     "user_tz": -300
    },
    "id": "F6QUOOqRsGkk",
    "outputId": "b9929ab2-3f50-457e-adda-5e86fddc5cc6"
   },
   "outputs": [
    {
     "name": "stdout",
     "output_type": "stream",
     "text": [
      "✅ Data preprocessing completed!\n"
     ]
    }
   ],
   "source": [
    "# ✅ Fill NaN values with column means\n",
    "merged_data.fillna(merged_data.mean(), inplace=True)\n",
    "\n",
    "# ✅ Select Features for Training\n",
    "selected_features = [\"ERCOT\", \"Temperature\", \"Relative Humidity\", \"Pressure\", \"Hour\", \"Day\", \"Month\"]\n",
    "\n",
    "# ✅ Apply Standard Scaling\n",
    "scaler = StandardScaler()\n",
    "merged_data[selected_features] = scaler.fit_transform(merged_data[selected_features])\n",
    "\n",
    "print(\"✅ Data preprocessing completed!\")\n"
   ]
  },
  {
   "cell_type": "code",
   "execution_count": 10,
   "metadata": {
    "colab": {
     "base_uri": "https://localhost:8080/"
    },
    "executionInfo": {
     "elapsed": 551,
     "status": "ok",
     "timestamp": 1738280591959,
     "user": {
      "displayName": "Syed Qasir",
      "userId": "16884457284432526504"
     },
     "user_tz": -300
    },
    "id": "Hxfriq09sPDw",
    "outputId": "2b50d617-6e18-42c9-fa11-41b14b61a54b"
   },
   "outputs": [
    {
     "name": "stdout",
     "output_type": "stream",
     "text": [
      "✅ Sequence generation completed!\n"
     ]
    }
   ],
   "source": [
    "SEQ_LENGTH = 24  # Look back 24 hours\n",
    "\n",
    "def create_sequences(data, seq_length=SEQ_LENGTH):\n",
    "    X, y = [], []\n",
    "    for i in range(len(data) - seq_length):\n",
    "        X.append(data[i:i + seq_length, :-1])  # Features except target\n",
    "        y.append(data[i + seq_length, -1])  # Target (energy demand)\n",
    "    return np.array(X), np.array(y)\n",
    "\n",
    "# ✅ Convert DataFrame to NumPy Array\n",
    "data_array = merged_data[selected_features].values\n",
    "\n",
    "# ✅ Create Sequences\n",
    "X, Y = create_sequences(data_array)\n",
    "\n",
    "# ✅ Train-Test Split\n",
    "split_index = int(0.8 * len(X))\n",
    "X_train, X_test = X[:split_index], X[split_index:]\n",
    "Y_train, Y_test = Y[:split_index], Y[split_index:]\n",
    "\n",
    "print(\"✅ Sequence generation completed!\")\n"
   ]
  },
  {
   "cell_type": "code",
   "execution_count": 11,
   "metadata": {
    "executionInfo": {
     "elapsed": 3,
     "status": "ok",
     "timestamp": 1738280593230,
     "user": {
      "displayName": "Syed Qasir",
      "userId": "16884457284432526504"
     },
     "user_tz": -300
    },
    "id": "WKW9EGu8tR1C"
   },
   "outputs": [],
   "source": [
    "def build_gru_model(hp):\n",
    "    model = Sequential([\n",
    "        Input(shape=(24, X_train.shape[2])),\n",
    "\n",
    "        GRU(hp.Int(\"units1\", min_value=64, max_value=512, step=64), return_sequences=True),\n",
    "        LeakyReLU(alpha=0.1),\n",
    "        BatchNormalization(),\n",
    "        Dropout(hp.Float(\"dropout1\", min_value=0.1, max_value=0.5, step=0.1)),\n",
    "\n",
    "        GRU(hp.Int(\"units2\", min_value=32, max_value=256, step=32)),\n",
    "        LeakyReLU(alpha=0.1),\n",
    "        BatchNormalization(),\n",
    "        Dropout(hp.Float(\"dropout2\", min_value=0.1, max_value=0.5, step=0.1)),\n",
    "\n",
    "        Dense(64, activation='relu'),\n",
    "        Dense(1, activation='linear')\n",
    "    ])\n",
    "\n",
    "    model.compile(\n",
    "        optimizer=Adam(learning_rate=hp.Float(\"lr\", min_value=1e-4, max_value=1e-2, sampling=\"LOG\")),\n",
    "        loss=Huber(delta=1.0),\n",
    "        metrics=['mae']\n",
    "    )\n",
    "\n",
    "    return model\n"
   ]
  },
  {
   "cell_type": "code",
   "execution_count": 12,
   "metadata": {
    "colab": {
     "base_uri": "https://localhost:8080/"
    },
    "executionInfo": {
     "elapsed": 1389137,
     "status": "ok",
     "timestamp": 1738282824106,
     "user": {
      "displayName": "Syed Qasir",
      "userId": "16884457284432526504"
     },
     "user_tz": -300
    },
    "id": "3qS3b4oztW2L",
    "outputId": "a09b2e2f-a311-4e29-d34f-e849d770afba"
   },
   "outputs": [
    {
     "name": "stdout",
     "output_type": "stream",
     "text": [
      "Trial 10 Complete [00h 03m 54s]\n",
      "val_mae: 0.5506420731544495\n",
      "\n",
      "Best val_mae So Far: 0.44190773367881775\n",
      "Total elapsed time: 00h 37m 05s\n"
     ]
    }
   ],
   "source": [
    "tuner = kt.RandomSearch(\n",
    "    build_gru_model,\n",
    "    objective='val_mae',\n",
    "    max_trials=10,\n",
    "    directory='/mnt/data/gru_tuning',\n",
    "    project_name='gru_energy_forecasting_v2'\n",
    ")\n",
    "\n",
    "# ✅ Run tuning\n",
    "tuner.search(X_train, Y_train, epochs=30, batch_size=64, validation_data=(X_test, Y_test))\n"
   ]
  },
  {
   "cell_type": "code",
   "execution_count": 13,
   "metadata": {
    "colab": {
     "base_uri": "https://localhost:8080/"
    },
    "executionInfo": {
     "elapsed": 419727,
     "status": "ok",
     "timestamp": 1738283243830,
     "user": {
      "displayName": "Syed Qasir",
      "userId": "16884457284432526504"
     },
     "user_tz": -300
    },
    "id": "SsbL2kgqteWE",
    "outputId": "ee08949a-6a91-406a-f091-97cd8e1ded9c"
   },
   "outputs": [
    {
     "name": "stdout",
     "output_type": "stream",
     "text": [
      "Epoch 1/50\n",
      "\u001b[1m438/438\u001b[0m \u001b[32m━━━━━━━━━━━━━━━━━━━━\u001b[0m\u001b[37m\u001b[0m \u001b[1m10s\u001b[0m 16ms/step - loss: 0.4811 - mae: 0.8504 - val_loss: 0.4052 - val_mae: 0.7643\n",
      "Epoch 2/50\n",
      "\u001b[1m438/438\u001b[0m \u001b[32m━━━━━━━━━━━━━━━━━━━━\u001b[0m\u001b[37m\u001b[0m \u001b[1m9s\u001b[0m 13ms/step - loss: 0.3577 - mae: 0.6921 - val_loss: 0.3814 - val_mae: 0.7299\n",
      "Epoch 3/50\n",
      "\u001b[1m438/438\u001b[0m \u001b[32m━━━━━━━━━━━━━━━━━━━━\u001b[0m\u001b[37m\u001b[0m \u001b[1m6s\u001b[0m 14ms/step - loss: 0.3122 - mae: 0.6267 - val_loss: 0.2933 - val_mae: 0.6199\n",
      "Epoch 4/50\n",
      "\u001b[1m438/438\u001b[0m \u001b[32m━━━━━━━━━━━━━━━━━━━━\u001b[0m\u001b[37m\u001b[0m \u001b[1m6s\u001b[0m 13ms/step - loss: 0.2729 - mae: 0.5698 - val_loss: 0.3382 - val_mae: 0.6536\n",
      "Epoch 5/50\n",
      "\u001b[1m438/438\u001b[0m \u001b[32m━━━━━━━━━━━━━━━━━━━━\u001b[0m\u001b[37m\u001b[0m \u001b[1m10s\u001b[0m 13ms/step - loss: 0.2240 - mae: 0.5005 - val_loss: 0.2812 - val_mae: 0.5650\n",
      "Epoch 6/50\n",
      "\u001b[1m438/438\u001b[0m \u001b[32m━━━━━━━━━━━━━━━━━━━━\u001b[0m\u001b[37m\u001b[0m \u001b[1m7s\u001b[0m 15ms/step - loss: 0.1874 - mae: 0.4462 - val_loss: 0.2581 - val_mae: 0.5258\n",
      "Epoch 7/50\n",
      "\u001b[1m438/438\u001b[0m \u001b[32m━━━━━━━━━━━━━━━━━━━━\u001b[0m\u001b[37m\u001b[0m \u001b[1m9s\u001b[0m 13ms/step - loss: 0.1558 - mae: 0.3962 - val_loss: 0.3141 - val_mae: 0.5819\n",
      "Epoch 8/50\n",
      "\u001b[1m438/438\u001b[0m \u001b[32m━━━━━━━━━━━━━━━━━━━━\u001b[0m\u001b[37m\u001b[0m \u001b[1m7s\u001b[0m 15ms/step - loss: 0.1266 - mae: 0.3501 - val_loss: 0.2575 - val_mae: 0.5135\n",
      "Epoch 9/50\n",
      "\u001b[1m438/438\u001b[0m \u001b[32m━━━━━━━━━━━━━━━━━━━━\u001b[0m\u001b[37m\u001b[0m \u001b[1m6s\u001b[0m 13ms/step - loss: 0.0949 - mae: 0.2991 - val_loss: 0.3101 - val_mae: 0.5727\n",
      "Epoch 10/50\n",
      "\u001b[1m438/438\u001b[0m \u001b[32m━━━━━━━━━━━━━━━━━━━━\u001b[0m\u001b[37m\u001b[0m \u001b[1m7s\u001b[0m 15ms/step - loss: 0.0817 - mae: 0.2744 - val_loss: 0.2923 - val_mae: 0.5486\n",
      "Epoch 11/50\n",
      "\u001b[1m438/438\u001b[0m \u001b[32m━━━━━━━━━━━━━━━━━━━━\u001b[0m\u001b[37m\u001b[0m \u001b[1m10s\u001b[0m 14ms/step - loss: 0.0593 - mae: 0.2390 - val_loss: 0.2684 - val_mae: 0.5023\n",
      "Epoch 12/50\n",
      "\u001b[1m438/438\u001b[0m \u001b[32m━━━━━━━━━━━━━━━━━━━━\u001b[0m\u001b[37m\u001b[0m \u001b[1m10s\u001b[0m 13ms/step - loss: 0.0662 - mae: 0.2457 - val_loss: 0.2930 - val_mae: 0.5297\n",
      "Epoch 13/50\n",
      "\u001b[1m438/438\u001b[0m \u001b[32m━━━━━━━━━━━━━━━━━━━━\u001b[0m\u001b[37m\u001b[0m \u001b[1m10s\u001b[0m 13ms/step - loss: 0.0640 - mae: 0.2367 - val_loss: 0.3102 - val_mae: 0.5552\n",
      "Epoch 14/50\n",
      "\u001b[1m438/438\u001b[0m \u001b[32m━━━━━━━━━━━━━━━━━━━━\u001b[0m\u001b[37m\u001b[0m \u001b[1m11s\u001b[0m 14ms/step - loss: 0.0479 - mae: 0.2108 - val_loss: 0.2744 - val_mae: 0.5082\n",
      "Epoch 15/50\n",
      "\u001b[1m438/438\u001b[0m \u001b[32m━━━━━━━━━━━━━━━━━━━━\u001b[0m\u001b[37m\u001b[0m \u001b[1m11s\u001b[0m 16ms/step - loss: 0.0432 - mae: 0.1998 - val_loss: 0.2374 - val_mae: 0.4513\n",
      "Epoch 16/50\n",
      "\u001b[1m438/438\u001b[0m \u001b[32m━━━━━━━━━━━━━━━━━━━━\u001b[0m\u001b[37m\u001b[0m \u001b[1m6s\u001b[0m 13ms/step - loss: 0.0396 - mae: 0.1908 - val_loss: 0.3307 - val_mae: 0.5722\n",
      "Epoch 17/50\n",
      "\u001b[1m438/438\u001b[0m \u001b[32m━━━━━━━━━━━━━━━━━━━━\u001b[0m\u001b[37m\u001b[0m \u001b[1m7s\u001b[0m 15ms/step - loss: 0.0446 - mae: 0.1953 - val_loss: 0.2858 - val_mae: 0.5047\n",
      "Epoch 18/50\n",
      "\u001b[1m438/438\u001b[0m \u001b[32m━━━━━━━━━━━━━━━━━━━━\u001b[0m\u001b[37m\u001b[0m \u001b[1m6s\u001b[0m 13ms/step - loss: 0.0285 - mae: 0.1647 - val_loss: 0.3252 - val_mae: 0.5438\n",
      "Epoch 19/50\n",
      "\u001b[1m438/438\u001b[0m \u001b[32m━━━━━━━━━━━━━━━━━━━━\u001b[0m\u001b[37m\u001b[0m \u001b[1m10s\u001b[0m 13ms/step - loss: 0.0341 - mae: 0.1737 - val_loss: 0.2634 - val_mae: 0.4734\n",
      "Epoch 20/50\n",
      "\u001b[1m438/438\u001b[0m \u001b[32m━━━━━━━━━━━━━━━━━━━━\u001b[0m\u001b[37m\u001b[0m \u001b[1m7s\u001b[0m 15ms/step - loss: 0.0372 - mae: 0.1784 - val_loss: 0.2498 - val_mae: 0.4577\n",
      "Epoch 21/50\n",
      "\u001b[1m438/438\u001b[0m \u001b[32m━━━━━━━━━━━━━━━━━━━━\u001b[0m\u001b[37m\u001b[0m \u001b[1m6s\u001b[0m 14ms/step - loss: 0.0290 - mae: 0.1609 - val_loss: 0.2760 - val_mae: 0.4786\n",
      "Epoch 22/50\n",
      "\u001b[1m438/438\u001b[0m \u001b[32m━━━━━━━━━━━━━━━━━━━━\u001b[0m\u001b[37m\u001b[0m \u001b[1m6s\u001b[0m 13ms/step - loss: 0.0244 - mae: 0.1526 - val_loss: 0.2837 - val_mae: 0.4956\n",
      "Epoch 23/50\n",
      "\u001b[1m438/438\u001b[0m \u001b[32m━━━━━━━━━━━━━━━━━━━━\u001b[0m\u001b[37m\u001b[0m \u001b[1m10s\u001b[0m 13ms/step - loss: 0.0386 - mae: 0.1748 - val_loss: 0.2915 - val_mae: 0.4968\n",
      "Epoch 24/50\n",
      "\u001b[1m438/438\u001b[0m \u001b[32m━━━━━━━━━━━━━━━━━━━━\u001b[0m\u001b[37m\u001b[0m \u001b[1m10s\u001b[0m 13ms/step - loss: 0.0241 - mae: 0.1461 - val_loss: 0.2723 - val_mae: 0.4809\n",
      "Epoch 25/50\n",
      "\u001b[1m438/438\u001b[0m \u001b[32m━━━━━━━━━━━━━━━━━━━━\u001b[0m\u001b[37m\u001b[0m \u001b[1m6s\u001b[0m 14ms/step - loss: 0.0239 - mae: 0.1451 - val_loss: 0.2807 - val_mae: 0.4821\n",
      "Epoch 26/50\n",
      "\u001b[1m438/438\u001b[0m \u001b[32m━━━━━━━━━━━━━━━━━━━━\u001b[0m\u001b[37m\u001b[0m \u001b[1m10s\u001b[0m 13ms/step - loss: 0.0216 - mae: 0.1358 - val_loss: 0.2747 - val_mae: 0.4889\n",
      "Epoch 27/50\n",
      "\u001b[1m438/438\u001b[0m \u001b[32m━━━━━━━━━━━━━━━━━━━━\u001b[0m\u001b[37m\u001b[0m \u001b[1m10s\u001b[0m 13ms/step - loss: 0.0161 - mae: 0.1260 - val_loss: 0.2883 - val_mae: 0.4977\n",
      "Epoch 28/50\n",
      "\u001b[1m438/438\u001b[0m \u001b[32m━━━━━━━━━━━━━━━━━━━━\u001b[0m\u001b[37m\u001b[0m \u001b[1m10s\u001b[0m 13ms/step - loss: 0.0129 - mae: 0.1160 - val_loss: 0.2843 - val_mae: 0.5074\n",
      "Epoch 29/50\n",
      "\u001b[1m438/438\u001b[0m \u001b[32m━━━━━━━━━━━━━━━━━━━━\u001b[0m\u001b[37m\u001b[0m \u001b[1m11s\u001b[0m 15ms/step - loss: 0.0233 - mae: 0.1399 - val_loss: 0.2874 - val_mae: 0.4938\n",
      "Epoch 30/50\n",
      "\u001b[1m438/438\u001b[0m \u001b[32m━━━━━━━━━━━━━━━━━━━━\u001b[0m\u001b[37m\u001b[0m \u001b[1m11s\u001b[0m 16ms/step - loss: 0.0214 - mae: 0.1322 - val_loss: 0.2762 - val_mae: 0.4851\n",
      "Epoch 31/50\n",
      "\u001b[1m438/438\u001b[0m \u001b[32m━━━━━━━━━━━━━━━━━━━━\u001b[0m\u001b[37m\u001b[0m \u001b[1m6s\u001b[0m 13ms/step - loss: 0.0291 - mae: 0.1463 - val_loss: 0.3108 - val_mae: 0.5349\n",
      "Epoch 32/50\n",
      "\u001b[1m438/438\u001b[0m \u001b[32m━━━━━━━━━━━━━━━━━━━━\u001b[0m\u001b[37m\u001b[0m \u001b[1m6s\u001b[0m 14ms/step - loss: 0.0137 - mae: 0.1168 - val_loss: 0.3162 - val_mae: 0.5277\n",
      "Epoch 33/50\n",
      "\u001b[1m438/438\u001b[0m \u001b[32m━━━━━━━━━━━━━━━━━━━━\u001b[0m\u001b[37m\u001b[0m \u001b[1m10s\u001b[0m 13ms/step - loss: 0.0178 - mae: 0.1183 - val_loss: 0.2763 - val_mae: 0.4907\n",
      "Epoch 34/50\n",
      "\u001b[1m438/438\u001b[0m \u001b[32m━━━━━━━━━━━━━━━━━━━━\u001b[0m\u001b[37m\u001b[0m \u001b[1m7s\u001b[0m 15ms/step - loss: 0.0336 - mae: 0.1497 - val_loss: 0.3249 - val_mae: 0.5392\n",
      "Epoch 35/50\n",
      "\u001b[1m438/438\u001b[0m \u001b[32m━━━━━━━━━━━━━━━━━━━━\u001b[0m\u001b[37m\u001b[0m \u001b[1m10s\u001b[0m 14ms/step - loss: 0.0168 - mae: 0.1215 - val_loss: 0.2824 - val_mae: 0.4953\n",
      "Epoch 36/50\n",
      "\u001b[1m438/438\u001b[0m \u001b[32m━━━━━━━━━━━━━━━━━━━━\u001b[0m\u001b[37m\u001b[0m \u001b[1m10s\u001b[0m 13ms/step - loss: 0.0217 - mae: 0.1262 - val_loss: 0.3179 - val_mae: 0.5209\n",
      "Epoch 37/50\n",
      "\u001b[1m438/438\u001b[0m \u001b[32m━━━━━━━━━━━━━━━━━━━━\u001b[0m\u001b[37m\u001b[0m \u001b[1m10s\u001b[0m 13ms/step - loss: 0.0121 - mae: 0.1064 - val_loss: 0.2955 - val_mae: 0.4991\n",
      "Epoch 38/50\n",
      "\u001b[1m438/438\u001b[0m \u001b[32m━━━━━━━━━━━━━━━━━━━━\u001b[0m\u001b[37m\u001b[0m \u001b[1m7s\u001b[0m 16ms/step - loss: 0.0129 - mae: 0.1086 - val_loss: 0.2909 - val_mae: 0.4908\n",
      "Epoch 39/50\n",
      "\u001b[1m438/438\u001b[0m \u001b[32m━━━━━━━━━━━━━━━━━━━━\u001b[0m\u001b[37m\u001b[0m \u001b[1m6s\u001b[0m 13ms/step - loss: 0.0161 - mae: 0.1108 - val_loss: 0.2710 - val_mae: 0.4703\n",
      "Epoch 40/50\n",
      "\u001b[1m438/438\u001b[0m \u001b[32m━━━━━━━━━━━━━━━━━━━━\u001b[0m\u001b[37m\u001b[0m \u001b[1m11s\u001b[0m 16ms/step - loss: 0.0200 - mae: 0.1223 - val_loss: 0.3184 - val_mae: 0.5248\n",
      "Epoch 41/50\n",
      "\u001b[1m438/438\u001b[0m \u001b[32m━━━━━━━━━━━━━━━━━━━━\u001b[0m\u001b[37m\u001b[0m \u001b[1m11s\u001b[0m 17ms/step - loss: 0.0256 - mae: 0.1259 - val_loss: 0.3053 - val_mae: 0.5156\n",
      "Epoch 42/50\n",
      "\u001b[1m438/438\u001b[0m \u001b[32m━━━━━━━━━━━━━━━━━━━━\u001b[0m\u001b[37m\u001b[0m \u001b[1m9s\u001b[0m 13ms/step - loss: 0.0088 - mae: 0.0946 - val_loss: 0.2848 - val_mae: 0.4928\n",
      "Epoch 43/50\n",
      "\u001b[1m438/438\u001b[0m \u001b[32m━━━━━━━━━━━━━━━━━━━━\u001b[0m\u001b[37m\u001b[0m \u001b[1m7s\u001b[0m 16ms/step - loss: 0.0115 - mae: 0.0991 - val_loss: 0.2899 - val_mae: 0.4937\n",
      "Epoch 44/50\n",
      "\u001b[1m438/438\u001b[0m \u001b[32m━━━━━━━━━━━━━━━━━━━━\u001b[0m\u001b[37m\u001b[0m \u001b[1m6s\u001b[0m 13ms/step - loss: 0.0155 - mae: 0.1092 - val_loss: 0.2594 - val_mae: 0.4558\n",
      "Epoch 45/50\n",
      "\u001b[1m438/438\u001b[0m \u001b[32m━━━━━━━━━━━━━━━━━━━━\u001b[0m\u001b[37m\u001b[0m \u001b[1m7s\u001b[0m 16ms/step - loss: 0.0097 - mae: 0.0963 - val_loss: 0.2945 - val_mae: 0.4960\n",
      "Epoch 46/50\n",
      "\u001b[1m438/438\u001b[0m \u001b[32m━━━━━━━━━━━━━━━━━━━━\u001b[0m\u001b[37m\u001b[0m \u001b[1m9s\u001b[0m 14ms/step - loss: 0.0113 - mae: 0.0977 - val_loss: 0.3037 - val_mae: 0.5131\n",
      "Epoch 47/50\n",
      "\u001b[1m438/438\u001b[0m \u001b[32m━━━━━━━━━━━━━━━━━━━━\u001b[0m\u001b[37m\u001b[0m \u001b[1m6s\u001b[0m 14ms/step - loss: 0.0134 - mae: 0.0971 - val_loss: 0.3241 - val_mae: 0.5360\n",
      "Epoch 48/50\n",
      "\u001b[1m438/438\u001b[0m \u001b[32m━━━━━━━━━━━━━━━━━━━━\u001b[0m\u001b[37m\u001b[0m \u001b[1m11s\u001b[0m 16ms/step - loss: 0.0093 - mae: 0.0943 - val_loss: 0.2995 - val_mae: 0.5195\n",
      "Epoch 49/50\n",
      "\u001b[1m438/438\u001b[0m \u001b[32m━━━━━━━━━━━━━━━━━━━━\u001b[0m\u001b[37m\u001b[0m \u001b[1m10s\u001b[0m 15ms/step - loss: 0.0237 - mae: 0.1282 - val_loss: 0.2669 - val_mae: 0.4657\n",
      "Epoch 50/50\n",
      "\u001b[1m438/438\u001b[0m \u001b[32m━━━━━━━━━━━━━━━━━━━━\u001b[0m\u001b[37m\u001b[0m \u001b[1m9s\u001b[0m 13ms/step - loss: 0.0081 - mae: 0.0881 - val_loss: 0.2817 - val_mae: 0.4783\n"
     ]
    },
    {
     "name": "stderr",
     "output_type": "stream",
     "text": [
      "WARNING:absl:You are saving your model as an HDF5 file via `model.save()` or `keras.saving.save_model(model)`. This file format is considered legacy. We recommend using instead the native Keras format, e.g. `model.save('my_model.keras')` or `keras.saving.save_model(model, 'my_model.keras')`. \n"
     ]
    },
    {
     "name": "stdout",
     "output_type": "stream",
     "text": [
      "✅ Best model trained and saved successfully!\n"
     ]
    }
   ],
   "source": [
    "# ✅ Retrieve Best Model\n",
    "best_hps = tuner.get_best_hyperparameters(num_trials=1)[0]\n",
    "best_model = tuner.hypermodel.build(best_hps)\n",
    "\n",
    "# ✅ Train Best Model\n",
    "history = best_model.fit(X_train, Y_train, epochs=50, batch_size=64, validation_data=(X_test, Y_test), verbose=1)\n",
    "\n",
    "# ✅ Save the Model\n",
    "best_model.save(\"/content/drive/MyDrive/Bushrasa project/best_gru_model.h5\")\n",
    "print(\"✅ Best model trained and saved successfully!\")\n"
   ]
  },
  {
   "cell_type": "code",
   "execution_count": 14,
   "metadata": {
    "colab": {
     "base_uri": "https://localhost:8080/",
     "height": 655
    },
    "executionInfo": {
     "elapsed": 3325,
     "status": "ok",
     "timestamp": 1738283257748,
     "user": {
      "displayName": "Syed Qasir",
      "userId": "16884457284432526504"
     },
     "user_tz": -300
    },
    "id": "XsFJwHZEtru_",
    "outputId": "c027fc5a-6c3c-4d31-de8a-344786459b7e"
   },
   "outputs": [
    {
     "name": "stdout",
     "output_type": "stream",
     "text": [
      "\u001b[1m219/219\u001b[0m \u001b[32m━━━━━━━━━━━━━━━━━━━━\u001b[0m\u001b[37m\u001b[0m \u001b[1m2s\u001b[0m 7ms/step\n",
      "🚀 Improved Model Performance:\n",
      "✅ MAE: 0.4782907913988354\n",
      "✅ RMSE: 0.9161971660687388\n",
      "✅ R² Score: -0.3067689585690587\n"
     ]
    },
    {
     "data": {
      "image/png": "[encoded data removed]",
      "text/plain": [
       "<Figure size 1200x600 with 1 Axes>"
      ]
     },
     "metadata": {},
     "output_type": "display_data"
    }
   ],
   "source": [
    "# ✅ Generate Predictions\n",
    "predictions = best_model.predict(X_test)\n",
    "\n",
    "# ✅ Evaluate Performance\n",
    "mae = mean_absolute_error(Y_test, predictions)\n",
    "rmse = np.sqrt(mean_squared_error(Y_test, predictions))\n",
    "r2 = r2_score(Y_test, predictions)\n",
    "\n",
    "print(f\"🚀 Improved Model Performance:\")\n",
    "print(f\"✅ MAE: {mae}\")\n",
    "print(f\"✅ RMSE: {rmse}\")\n",
    "print(f\"✅ R² Score: {r2}\")\n",
    "\n",
    "# ✅ Plot Actual vs Predicted\n",
    "plt.figure(figsize=(12, 6))\n",
    "plt.plot(Y_test[:100], label=\"Actual Load\", color=\"blue\")\n",
    "plt.plot(predictions[:100], label=\"Predicted Load\", color=\"red\", linestyle=\"--\")\n",
    "plt.xlabel('Time')\n",
    "plt.ylabel('Load')\n",
    "plt.title('Actual vs Predicted Load')\n",
    "plt.legend()\n",
    "plt.grid(True)\n",
    "plt.show()\n"
   ]
  },
  {
   "cell_type": "code",
   "execution_count": 6,
   "metadata": {
    "id": "MsJGpQKdwX9P"
   },
   "outputs": [
    {
     "name": "stdout",
     "output_type": "stream",
     "text": [
      "Trial 5 Complete [00h 16m 07s]\n",
      "val_mae: 0.6584808230400085\n",
      "\n",
      "Best val_mae So Far: 0.6440445184707642\n",
      "Total elapsed time: 03h 19m 50s\n",
      "Epoch 1/5\n",
      "\u001b[1m438/438\u001b[0m \u001b[32m━━━━━━━━━━━━━━━━━━━━\u001b[0m\u001b[37m\u001b[0m \u001b[1m184s\u001b[0m 366ms/step - loss: 0.4851 - mae: 0.8483 - val_loss: 0.3661 - val_mae: 0.7296\n",
      "Epoch 2/5\n",
      "\u001b[1m438/438\u001b[0m \u001b[32m━━━━━━━━━━━━━━━━━━━━\u001b[0m\u001b[37m\u001b[0m \u001b[1m141s\u001b[0m 322ms/step - loss: 0.3472 - mae: 0.6759 - val_loss: 0.4018 - val_mae: 0.7527\n",
      "Epoch 3/5\n",
      "\u001b[1m438/438\u001b[0m \u001b[32m━━━━━━━━━━━━━━━━━━━━\u001b[0m\u001b[37m\u001b[0m \u001b[1m119s\u001b[0m 272ms/step - loss: 0.3254 - mae: 0.6469 - val_loss: 0.4135 - val_mae: 0.7778\n",
      "Epoch 4/5\n",
      "\u001b[1m438/438\u001b[0m \u001b[32m━━━━━━━━━━━━━━━━━━━━\u001b[0m\u001b[37m\u001b[0m \u001b[1m251s\u001b[0m 575ms/step - loss: 0.3410 - mae: 0.6695 - val_loss: 0.3963 - val_mae: 0.7579\n",
      "Epoch 5/5\n",
      "\u001b[1m438/438\u001b[0m \u001b[32m━━━━━━━━━━━━━━━━━━━━\u001b[0m\u001b[37m\u001b[0m \u001b[1m608s\u001b[0m 1s/step - loss: 0.3288 - mae: 0.6511 - val_loss: 0.4164 - val_mae: 0.7715\n"
     ]
    },
    {
     "name": "stderr",
     "output_type": "stream",
     "text": [
      "WARNING:absl:You are saving your model as an HDF5 file via `model.save()` or `keras.saving.save_model(model)`. This file format is considered legacy. We recommend using instead the native Keras format, e.g. `model.save('my_model.keras')` or `keras.saving.save_model(model, 'my_model.keras')`. \n"
     ]
    },
    {
     "name": "stdout",
     "output_type": "stream",
     "text": [
      "✅ Best model trained and saved successfully!\n",
      "\u001b[1m219/219\u001b[0m \u001b[32m━━━━━━━━━━━━━━━━━━━━\u001b[0m\u001b[37m\u001b[0m \u001b[1m20s\u001b[0m 77ms/step\n",
      "🚀 Improved Model Performance:\n",
      "✅ MAE: 0.7715066089695898\n",
      "✅ RMSE: 1.036761161595713\n",
      "✅ R² Score: -0.6733175288777598\n"
     ]
    },
    {
     "data": {
      "image/png": "[encoded data removed]",
      "text/plain": [
       "<Figure size 1200x600 with 1 Axes>"
      ]
     },
     "metadata": {},
     "output_type": "display_data"
    }
   ],
   "source": [
    "import numpy as np\n",
    "import pandas as pd\n",
    "import tensorflow as tf\n",
    "from tensorflow.keras.models import Sequential\n",
    "from tensorflow.keras.layers import GRU, Dense, Dropout, BatchNormalization, Input, LeakyReLU\n",
    "from tensorflow.keras.optimizers import Adam\n",
    "from tensorflow.keras.losses import Huber\n",
    "from sklearn.preprocessing import StandardScaler\n",
    "from sklearn.metrics import mean_absolute_error, mean_squared_error, r2_score\n",
    "import matplotlib.pyplot as plt\n",
    "import seaborn as sns\n",
    "import keras_tuner as kt\n",
    "\n",
    "# ✅ Load ERCOT Data\n",
    "ercot_data = pd.read_excel(\"D:/1/Load/DataSet/LoadTexasERCOT.xlsx\", engine=\"openpyxl\")\n",
    "ercot_data[\"Hour_End\"] = pd.to_datetime(ercot_data[\"Hour_End\"], errors='coerce')\n",
    "ercot_data.set_index(\"Hour_End\", inplace=True)\n",
    "\n",
    "# ✅ Load Weather Data\n",
    "def load_weather_data(file_path):\n",
    "    df = pd.read_excel(file_path, engine=\"openpyxl\")\n",
    "    df[\"Timestamp\"] = pd.to_datetime(df[[\"Year\", \"Month\", \"Day\", \"Hour\", \"Minute\"]])\n",
    "    df.set_index(\"Timestamp\", inplace=True)\n",
    "    df.drop(columns=[\"Year\", \"Month\", \"Day\", \"Hour\", \"Minute\"], inplace=True)\n",
    "    return df\n",
    "\n",
    "weather1 = load_weather_data(\"D:/1/Load/DataSet/WeatherStation1.xlsx\")\n",
    "weather2 = load_weather_data(\"D:/1/Load/DataSet/WeatherStation2.xlsx\")\n",
    "weather3 = load_weather_data(\"D:/1/Load/DataSet/WeatherStation3.xlsx\")\n",
    "\n",
    "# ✅ Merge Weather Data (Averaging)\n",
    "weather_data = pd.concat([weather1, weather2, weather3]).groupby(\"Timestamp\").mean()\n",
    "\n",
    "# ✅ Align Timestamps\n",
    "ercot_data.index = ercot_data.index.floor('h')\n",
    "weather_data.index = weather_data.index.floor('h')\n",
    "\n",
    "# ✅ Ensure Matching Time Ranges\n",
    "common_start = max(ercot_data.index.min(), weather_data.index.min())\n",
    "common_end = min(ercot_data.index.max(), weather_data.index.max())\n",
    "ercot_data = ercot_data.loc[common_start:common_end]\n",
    "weather_data = weather_data.loc[common_start:common_end]\n",
    "\n",
    "# ✅ Merge Data\n",
    "merged_data = ercot_data.merge(weather_data, left_index=True, right_index=True, how=\"inner\")\n",
    "print(\"✅ Data successfully merged!\")\n",
    "\n",
    "# ✅ Fill NaN values properly\n",
    "merged_data.ffill(inplace=True)\n",
    "merged_data.bfill(inplace=True)\n",
    "\n",
    "# ✅ Feature Engineering\n",
    "merged_data[\"Hour\"] = merged_data.index.hour\n",
    "merged_data[\"Day\"] = merged_data.index.day\n",
    "merged_data[\"Month\"] = merged_data.index.month\n",
    "\n",
    "# ✅ Normalize Selected Features\n",
    "selected_features = [\"ERCOT\", \"Temperature\", \"Relative Humidity\", \"Pressure\", \"Hour\", \"Day\", \"Month\"]\n",
    "scaler = StandardScaler()\n",
    "merged_data[selected_features] = scaler.fit_transform(merged_data[selected_features])\n",
    "print(\"✅ Data preprocessing completed!\")\n",
    "\n",
    "# ✅ Define Sequence Length\n",
    "SEQ_LENGTH = 24  # Look back 24 hours\n",
    "\n",
    "def create_sequences(data, seq_length=SEQ_LENGTH):\n",
    "    X, y = [], []\n",
    "    for i in range(len(data) - seq_length):\n",
    "        X.append(data[i:i + seq_length, :-1])  # Features except target\n",
    "        y.append(data[i + seq_length, -1])  # Target (energy demand)\n",
    "    return np.array(X), np.array(y)\n",
    "\n",
    "# ✅ Convert DataFrame to NumPy Array\n",
    "data_array = merged_data[selected_features].values\n",
    "X, Y = create_sequences(data_array)\n",
    "\n",
    "# ✅ Train-Test Split\n",
    "split_index = int(0.8 * len(X))\n",
    "X_train, X_test = X[:split_index], X[split_index:]\n",
    "Y_train, Y_test = Y[:split_index], Y[split_index:]\n",
    "print(\"✅ Sequence generation completed!\")\n",
    "\n",
    "# ✅ Define GRU Model\n",
    "def build_gru_model(hp):\n",
    "    model = Sequential([\n",
    "        Input(shape=(SEQ_LENGTH, X_train.shape[2])),\n",
    "        GRU(hp.Int(\"units1\", min_value=64, max_value=512, step=64), return_sequences=True),\n",
    "        LeakyReLU(alpha=0.1),\n",
    "        BatchNormalization(),\n",
    "        Dropout(hp.Float(\"dropout1\", min_value=0.1, max_value=0.5, step=0.1)),\n",
    "        GRU(hp.Int(\"units2\", min_value=32, max_value=256, step=32)),\n",
    "        LeakyReLU(alpha=0.1),\n",
    "        BatchNormalization(),\n",
    "        Dropout(hp.Float(\"dropout2\", min_value=0.1, max_value=0.5, step=0.1)),\n",
    "        Dense(64, activation='relu'),\n",
    "        Dense(1, activation='linear')\n",
    "    ])\n",
    "    model.compile(\n",
    "        optimizer=Adam(learning_rate=hp.Float(\"lr\", min_value=1e-4, max_value=1e-2, sampling=\"LOG\")),\n",
    "        loss=Huber(delta=1.0),\n",
    "        metrics=['mae']\n",
    "    )\n",
    "    return model\n",
    "\n",
    "# ✅ Hyperparameter Tuning\n",
    "tuner = kt.RandomSearch(\n",
    "    build_gru_model,\n",
    "    objective='val_mae',\n",
    "    max_trials=5,\n",
    "    directory='gru_tuning',\n",
    "    project_name='gru_energy_forecasting'\n",
    ")\n",
    "tuner.search(X_train, Y_train, epochs=5, batch_size=64, validation_data=(X_test, Y_test))\n",
    "\n",
    "# ✅ Train Best Model\n",
    "best_hps = tuner.get_best_hyperparameters(num_trials=1)[0]\n",
    "best_model = tuner.hypermodel.build(best_hps)\n",
    "history = best_model.fit(X_train, Y_train, epochs=5, batch_size=64, validation_data=(X_test, Y_test), verbose=1)\n",
    "\n",
    "# ✅ Save Model\n",
    "best_model.save(\"D:/1/Load/DataSet/best_gru_model.h5\")\n",
    "print(\"✅ Best model trained and saved successfully!\")\n",
    "\n",
    "# ✅ Generate Predictions\n",
    "predictions = best_model.predict(X_test)\n",
    "\n",
    "# ✅ Evaluate Performance\n",
    "mae = mean_absolute_error(Y_test, predictions)\n",
    "rmse = np.sqrt(mean_squared_error(Y_test, predictions))\n",
    "r2 = r2_score(Y_test, predictions)\n",
    "\n",
    "print(f\"🚀 Improved Model Performance:\")\n",
    "print(f\"✅ MAE: {mae}\")\n",
    "print(f\"✅ RMSE: {rmse}\")\n",
    "print(f\"✅ R² Score: {r2}\")\n",
    "\n",
    "# ✅ Plot Actual vs Predicted\n",
    "plt.figure(figsize=(12, 6))\n",
    "plt.plot(Y_test[:100], label=\"Actual Load\", color=\"blue\")\n",
    "plt.plot(predictions[:100], label=\"Predicted Load\", color=\"red\", linestyle=\"--\")\n",
    "plt.xlabel('Time')\n",
    "plt.ylabel('Load')\n",
    "plt.title('Actual vs Predicted Load')\n",
    "plt.legend()\n",
    "plt.grid(True)\n",
    "plt.show()\n"
   ]
  },
  {
   "cell_type": "code",
   "execution_count": null,
   "metadata": {},
   "outputs": [],
   "source": []
  }
 ],
 "metadata": {
  "accelerator": "GPU",
  "colab": {
   "authorship_tag": "ABX9TyPIPBZYT8WIZrOcZqgEdK0h",
   "gpuType": "T4",
   "provenance": []
  },
  "kernelspec": {
   "display_name": "alpha",
   "language": "python",
   "name": "python3"
  },
  "language_info": {
   "codemirror_mode": {
    "name": "ipython",
    "version": 3
   },
   "file_extension": ".py",
   "mimetype": "text/x-python",
   "name": "python",
   "nbconvert_exporter": "python",
   "pygments_lexer": "ipython3",
   "version": "3.10.0"
  }
 },
 "nbformat": 4,
 "nbformat_minor": 0
}
